{
 "cells": [
  {
   "cell_type": "markdown",
   "id": "e04be673",
   "metadata": {
    "colab_type": "text",
    "id": "view-in-github"
   },
   "source": [
    "<a href=\"https://colab.research.google.com/github/ErnestoTejeda7/Simulacion_II/blob/main/Unidad%20II/Lanzamiento_3_monedas.ipynb\" target=\"_parent\"><img src=\"https://colab.research.google.com/assets/colab-badge.svg\" alt=\"Open In Colab\"/></a>"
   ]
  },
  {
   "cell_type": "markdown",
   "id": "a5cc0a87",
   "metadata": {
    "id": "a5cc0a87"
   },
   "source": [
    "# Metodología de la Simulación"
   ]
  },
  {
   "cell_type": "markdown",
   "id": "df6c7807",
   "metadata": {},
   "source": [
    "Método de *Muestreo importancia* para resolver\n",
    "$$I=\\int_0^{\\pi\\ /\\ 2} sin\\ x\\ dx$$"
   ]
  },
  {
   "cell_type": "markdown",
   "id": "0e218d98",
   "metadata": {
    "id": "0e218d98"
   },
   "source": [
    "### 1. Identifique las variables\n",
    "\n",
    "Aquellas cuyo comportamiento define el comportamiento o la evoución global del sistema real."
   ]
  },
  {
   "cell_type": "markdown",
   "id": "3ebcd0f2",
   "metadata": {
    "id": "3ebcd0f2"
   },
   "source": [
    "### 2. Determine la distribución de probabilidad\n",
    "\n",
    "Elija el tipo de distribución de probabilidad que mejor defina el comportamiento aleatorio de cada una de las variables del sistema identificadas en el paso anterior."
   ]
  },
  {
   "cell_type": "markdown",
   "id": "803801d5",
   "metadata": {
    "id": "803801d5"
   },
   "source": [
    "### 3. Modele las variables aleatorias\n",
    "\n",
    "Cosntruya un modelo fiel de la aleatoriedad de las variables del sistema. Simular el comportamiento del sistema implica generar muestras aleatorias de cada variable que sigan fielmente la distribución de probabilidad correspondiente."
   ]
  },
  {
   "cell_type": "markdown",
   "id": "33709223",
   "metadata": {
    "id": "33709223"
   },
   "source": [
    "### 4. Defina el modelo del sistema y los objetivos de la simulación\n",
    "\n",
    "Fije los objetivos y diseñe un modelo del sistema real que abstraiga sus propiedades más relevantes. Todo error en el modelo (o su implementación computacional) puede dar lugar a conclusiones equivocadas.\n",
    "\n",
    "Antes de experimentar con el modelo, asegurarse de que refleja fielmente el sistema real **validando** el mismo a partir de datos reales, para ello compare los resultados obtenidos de la simulación con los producidos por el sistema."
   ]
  },
  {
   "cell_type": "markdown",
   "id": "7f853065",
   "metadata": {
    "id": "7f853065"
   },
   "source": [
    "### 5. Diseñe el experimento\n",
    "\n",
    "Diseñe un experimento así como las ejecuciones concretas del mismo, los escenarios que desea estudiar para alcanzar los objetivos fijados. El experimento consiste en generar valores de las variables cuyo comportamiento define el comportamiento del sistema y analizar este ante dichos valores."
   ]
  },
  {
   "cell_type": "markdown",
   "id": "15ae61c8",
   "metadata": {
    "id": "15ae61c8"
   },
   "source": [
    "### 6. Repita el experimento $n$ veces\n",
    "\n",
    "Así dispondrá de $n$ observaciones sobre el comportamiento del sistema, lo que permitirá entender su funcionamiento así como evaluar el desempeño del mismo frente a los diversos escenarios establecidos.\n",
    "\n",
    "El **método Monte Carlo** se basa en la **Ley Fuerte de los Grandes Números** y el **Teorema del Límite Central**."
   ]
  },
  {
   "cell_type": "markdown",
   "id": "51ce3fa1",
   "metadata": {
    "id": "51ce3fa1"
   },
   "source": [
    "## Ejercicio\n",
    "\n",
    "Método de *Muestreo importancia* para resolver\n",
    "$$I=\\int_0^{\\pi\\ /\\ 2} sin\\ x\\ dx$$\n",
    "\n",
    "1. Analíticamente.\n",
    "2. Mediante simulación."
   ]
  },
  {
   "cell_type": "markdown",
   "id": "6f1b4105",
   "metadata": {
    "id": "6f1b4105"
   },
   "source": [
    "### Analiticamente:"
   ]
  },
  {
   "cell_type": "markdown",
   "id": "0SIAwocYJfO-",
   "metadata": {
    "id": "0SIAwocYJfO-"
   },
   "source": [
    "El problema es una integral directa:\n",
    "\\begin{align*}\n",
    "I=\\int_0^{\\pi\\ /\\ 2} sin\\ x\\ dx = -cos\\ x \\Bigg|_0^{\\pi\\ /\\ 2} = -(0-1) = 1\n",
    "\\end{align*}\n",
    "\n",
    "Por tanto, **$I=1$**"
   ]
  },
  {
   "cell_type": "markdown",
   "id": "564ca694",
   "metadata": {
    "id": "564ca694"
   },
   "source": [
    "### Por simulación: \n"
   ]
  },
  {
   "cell_type": "markdown",
   "id": "fbbc8571",
   "metadata": {
    "id": "fbbc8571"
   },
   "source": [
    "**PASO 1**. Defina las variables que intervienen en el modelo."
   ]
  },
  {
   "cell_type": "markdown",
   "id": "14z2AD2LLZ-0",
   "metadata": {
    "id": "14z2AD2LLZ-0"
   },
   "source": [
    "Para poder resolver el problema vía simulación necesitamos definir 2 funciones, primero\n",
    "$$g(x) = sin\\ x,\\ 0\\leq x \\leq \\pi/2$$\n",
    "y una función de densidad $f(x)$ con soporte $(0, \\pi/2)$ tal que la integral se pueda transformar de la siguiente manera\n",
    "\n",
    "$$I=\\int_0^{\\pi\\ /\\ 2} \\frac{g(x)}{f(x)}\\ f(x) \\ dx $$\n",
    "\n",
    "Luego, podemos estimar $I$ de la siguiente forma\n",
    "\n",
    "$$I=E\\left[ \\frac{g(x)}{f(x)} \\right] \\approx \\frac{1}{N}\\displaystyle\\sum_{i=1}^{N} \\frac{g(u_i)}{f(u_i)}$$\n",
    "\n",
    "donde $u_i \\sim U(0,\\pi/2)$"
   ]
  },
  {
   "cell_type": "markdown",
   "id": "f05c0c2e",
   "metadata": {},
   "source": [
    "Por conveniencia, definimos a $f(x)$ como una recta constante $f(x)=cx,\\ 0\\leq x \\leq \\pi/2 $. Como queremos que $f$ se una función de densidad, entonces observamos el área debajo de dicha recta, la cual la podemos pensar como el área de un triángulo\n",
    "$$A=\\frac{base\\cdot altura}{2}=\\frac{(\\frac{\\pi}{2})(c\\frac{\\pi}{2})}{2}=c\\frac{\\pi^2}{8}$$\n",
    "luego, si tomamos $c=\\frac{8}{\\pi^2}$, conseguimos que $f$ sea una densidad."
   ]
  },
  {
   "cell_type": "markdown",
   "id": "4d3899f3",
   "metadata": {
    "id": "4d3899f3"
   },
   "source": [
    "**PASO 2**. Formule la distribución de probabilidad de cada variable."
   ]
  },
  {
   "cell_type": "markdown",
   "id": "fefa1334",
   "metadata": {
    "id": "fefa1334"
   },
   "source": [
    "$$\n",
    "f(x)= \n",
    "\\begin{cases} \n",
    "\\frac{8}{\\pi^2}x & \\text{si } 0 \\leq x \\leq \\pi/2 \\\\\n",
    "0 & \\text{en cualquier otro lugar}\n",
    "\\end{cases}\n",
    "$$"
   ]
  },
  {
   "cell_type": "markdown",
   "id": "fd02116a",
   "metadata": {
    "id": "fd02116a"
   },
   "source": [
    "**PASO 3**. Enumere la distribución acumulada de probabilidad de cada variable."
   ]
  },
  {
   "cell_type": "markdown",
   "id": "59e252c6",
   "metadata": {
    "id": "59e252c6"
   },
   "source": [
    "$$\n",
    "f(x)= \n",
    "\\begin{cases} \n",
    "0 & \\text{si  } x \\leq 0\\\\\n",
    "\\frac{4}{\\pi^2}x^2 & \\text{si  } 0 \\leq x \\leq \\pi/2 \\\\\n",
    "1 & \\text{si  }  \\pi/2 \\leq x\n",
    "\\end{cases}\n",
    "$$"
   ]
  },
  {
   "cell_type": "markdown",
   "id": "4852dcac",
   "metadata": {
    "id": "4852dcac"
   },
   "source": [
    "**PASO 4**. Establezca el intervalo de números aleatorios correspondiente a cada valor de cada una de las variables."
   ]
  },
  {
   "cell_type": "markdown",
   "id": "905db069",
   "metadata": {
    "id": "905db069"
   },
   "source": [
    "|    Variables |**x**|\n",
    "|------|-------|\n",
    "|Intervalo|(0, $\\frac{\\pi}{2}$) |"
   ]
  },
  {
   "cell_type": "markdown",
   "id": "edb6b074",
   "metadata": {
    "id": "edb6b074"
   },
   "source": [
    "**PASO 5**. Genere números aleatorios."
   ]
  },
  {
   "cell_type": "code",
   "execution_count": 1,
   "id": "7d56c432",
   "metadata": {
    "id": "7d56c432"
   },
   "outputs": [],
   "source": [
    "import random\n",
    "import math\n",
    "u_i=random.uniform(0,math.pi/2)"
   ]
  },
  {
   "cell_type": "markdown",
   "id": "f38f3396",
   "metadata": {
    "id": "f38f3396"
   },
   "source": [
    "**PASO 6**. Simule un lanzamiento."
   ]
  },
  {
   "cell_type": "markdown",
   "id": "a68ba17e",
   "metadata": {
    "id": "a68ba17e"
   },
   "source": [
    "En este caso cada lanzamiento es un cálculo de $\\frac{g(u_i)}{f(u_i)}$"
   ]
  },
  {
   "cell_type": "markdown",
   "id": "d270399e",
   "metadata": {
    "id": "d270399e"
   },
   "source": [
    "**PASO 7**. Obtenga la gráfica de estabilización que indica que el tamaño de muestra utilizado es suficiente para\n",
    "garantizar la convergencia del resultado."
   ]
  },
  {
   "cell_type": "code",
   "execution_count": 2,
   "id": "2fd22e33",
   "metadata": {
    "id": "2fd22e33"
   },
   "outputs": [],
   "source": [
    "import numpy as np\n",
    "import matplotlib.pyplot as plt"
   ]
  },
  {
   "cell_type": "code",
   "execution_count": 3,
   "id": "32719c0f",
   "metadata": {
    "id": "32719c0f"
   },
   "outputs": [],
   "source": [
    "def g(x):\n",
    "    return math.sin(x)\n",
    "def f(x):\n",
    "    return (8*x)/(math.pi**2)"
   ]
  },
  {
   "cell_type": "code",
   "execution_count": 4,
   "id": "0d2847cf",
   "metadata": {
    "id": "0d2847cf"
   },
   "outputs": [],
   "source": [
    "def experimento(iteraciones):\n",
    "    i = 1\n",
    "    suma=0\n",
    "    Lista = []\n",
    "    while i <= iteraciones:\n",
    "        u=random.uniform(0,math.pi/2)\n",
    "        suma = suma + (g(u)/f(u))\n",
    "        Lista.append(suma/(i))\n",
    "        i += 1\n",
    "    \n",
    "    #CONDICIÓN ESTABILIDAD\n",
    "    estable = 0\n",
    "    estabilidad = 0\n",
    "    error=10E-5\n",
    "    for k in range(1, iteraciones):\n",
    "        dif = abs(Lista[k] - Lista[k - 1])\n",
    "        if dif < error:\n",
    "            estabilidad += 1\n",
    "        else:\n",
    "            estabilidad = 0  \n",
    "\n",
    "        if estabilidad > 10:  \n",
    "            estable = k\n",
    "            break\n",
    "\n",
    "    return Lista, estable"
   ]
  },
  {
   "cell_type": "code",
   "execution_count": 5,
   "id": "548249d8",
   "metadata": {
    "id": "548249d8"
   },
   "outputs": [],
   "source": [
    "(exp,estable) = experimento(2000)"
   ]
  },
  {
   "cell_type": "code",
   "execution_count": 6,
   "id": "566325f4",
   "metadata": {
    "colab": {
     "base_uri": "https://localhost:8080/"
    },
    "id": "566325f4",
    "outputId": "345fc012-83a1-4d4b-c500-5a797c90ec3d"
   },
   "outputs": [
    {
     "data": {
      "text/plain": [
       "1.0828815836488601"
      ]
     },
     "execution_count": 6,
     "metadata": {},
     "output_type": "execute_result"
    }
   ],
   "source": [
    "np.mean(exp)"
   ]
  },
  {
   "cell_type": "code",
   "execution_count": 7,
   "id": "297af9b4",
   "metadata": {},
   "outputs": [
    {
     "data": {
      "text/plain": [
       "1594"
      ]
     },
     "execution_count": 7,
     "metadata": {},
     "output_type": "execute_result"
    }
   ],
   "source": [
    "estable"
   ]
  },
  {
   "cell_type": "code",
   "execution_count": 8,
   "id": "ef68f87c",
   "metadata": {
    "colab": {
     "base_uri": "https://localhost:8080/",
     "height": 472
    },
    "id": "ef68f87c",
    "outputId": "1af552e6-9018-410a-c9cb-800d5b726ac6"
   },
   "outputs": [
    {
     "data": {
      "image/png": "[encoded data removed]",
      "text/plain": [
       "<Figure size 640x480 with 1 Axes>"
      ]
     },
     "metadata": {},
     "output_type": "display_data"
    }
   ],
   "source": [
    "plt.plot(exp)\n",
    "plt.xlabel('iteraciones')\n",
    "plt.ylabel('Valor de I')\n",
    "plt.title('Estimación de Integral por Muestreo Importancia')\n",
    "\n",
    "# Agrega una línea vertical e donde comienza el estado estable.\n",
    "plt.axvline(x=estable, color='red', linestyle='--', label=f'Estado Estable en {estable}')\n",
    "\n",
    "plt.legend()  # Muestra la leyenda si es necesario\n",
    "plt.show()"
   ]
  },
  {
   "cell_type": "markdown",
   "id": "f596fcd1",
   "metadata": {
    "id": "f596fcd1"
   },
   "source": [
    "**PASO 8**. Replique el modelo."
   ]
  },
  {
   "cell_type": "code",
   "execution_count": 9,
   "id": "b237f0d0",
   "metadata": {
    "id": "b237f0d0"
   },
   "outputs": [],
   "source": [
    "def simulacion_caras(repeticiones):\n",
    "    l = []\n",
    "    for i in range(repeticiones):\n",
    "        l.append(np.mean(experimento(estable)[0]))\n",
    "    return l"
   ]
  },
  {
   "cell_type": "code",
   "execution_count": 10,
   "id": "d060db89",
   "metadata": {
    "id": "d060db89"
   },
   "outputs": [],
   "source": [
    "N=1000\n",
    "simulacion = simulacion_caras(N)"
   ]
  },
  {
   "cell_type": "code",
   "execution_count": 11,
   "id": "cc0b958d",
   "metadata": {
    "colab": {
     "base_uri": "https://localhost:8080/",
     "height": 472
    },
    "id": "cc0b958d",
    "outputId": "116144a4-1873-435c-dda0-a019078c2959"
   },
   "outputs": [
    {
     "data": {
      "image/png": "[encoded data removed]",
      "text/plain": [
       "<Figure size 640x480 with 1 Axes>"
      ]
     },
     "metadata": {},
     "output_type": "display_data"
    }
   ],
   "source": [
    "plt.hist(simulacion, bins=20, density=1)\n",
    "plt.xlabel('iteraciones')\n",
    "plt.ylabel('p')\n",
    "plt.title('Valor de I')\n",
    "plt.show()"
   ]
  },
  {
   "cell_type": "markdown",
   "id": "6e9bd469",
   "metadata": {
    "id": "6e9bd469"
   },
   "source": [
    "**PASO 9**. Calcule la probabilidad de que aparezcan dos caras lanzando tres veces una moneda al aire y su desviación\n",
    "estándar."
   ]
  },
  {
   "cell_type": "code",
   "execution_count": 12,
   "id": "dbeb0461",
   "metadata": {
    "colab": {
     "base_uri": "https://localhost:8080/"
    },
    "id": "dbeb0461",
    "outputId": "f3edddcd-392d-419b-a9ee-12aff3645111"
   },
   "outputs": [
    {
     "name": "stdout",
     "output_type": "stream",
     "text": [
      "1.0765973162414826 2.3191967642870266e-05 0.004815803945642956\n"
     ]
    }
   ],
   "source": [
    "media = np.mean(simulacion); var = np.var(simulacion); desv= np.std(simulacion)\n",
    "print(media, var, desv)"
   ]
  },
  {
   "cell_type": "markdown",
   "id": "db8776d2",
   "metadata": {
    "id": "db8776d2"
   },
   "source": [
    "**PASO 10**. Halle el intervalo de confianza de la probabilidad de queaparezcan dos caras lanzando tres veces una moneda\n",
    "al aire con un nivel de confianza del $95 \\%$."
   ]
  },
  {
   "cell_type": "markdown",
   "id": "VGILJYyeNKab",
   "metadata": {
    "id": "VGILJYyeNKab"
   },
   "source": [
    "\\begin{equation*}\n",
    "\\overline{x}- Z_{\\frac{\\alpha}{2}}  \\cdot \\frac{S}{\\sqrt{N}} < \\mu < \\overline{x}+ Z_{\\frac{\\alpha}{2}}  \\cdot \\frac{S}{\\sqrt{N}}\n",
    "\\end{equation*}"
   ]
  },
  {
   "cell_type": "code",
   "execution_count": 13,
   "id": "e5132329",
   "metadata": {
    "colab": {
     "base_uri": "https://localhost:8080/"
    },
    "id": "e5132329",
    "outputId": "dc766c01-a31c-401a-e1a7-f86ca20af744"
   },
   "outputs": [
    {
     "name": "stdout",
     "output_type": "stream",
     "text": [
      "Entonces:  1.0762988351052765 < μ < 1.0768957973776887 \n",
      "Con un 95% de confianza\n"
     ]
    }
   ],
   "source": [
    "from scipy.stats import norm #Importamos la libreria para poder obtener el valor de Z.\n",
    "alpha = 1 - 0.95 #Alpha es igual a 1 - la confianza del intervalo\n",
    "z_alpha_2 = norm.ppf(1-alpha / 2) #Mandamos a pedir el valor de Z para \\alpha/2, sabemos que si es el 95% de confienza, Z esta cercano al 1.96.\n",
    "l_inferior = media - z_alpha_2 * (desv / math.sqrt(N)) #Sacamos limite inferior por la formula\n",
    "l_superior = media + z_alpha_2 * (desv / math.sqrt(N)) #Sacamos limite superior por la formula\n",
    "print(\"Entonces: \", l_inferior, \"< \\u03BC <\", l_superior, \"\\nCon un 95% de confianza\") #El intervalo en donde se encuentra el valor real a una confienza del 95%"
   ]
  },
  {
   "cell_type": "code",
   "execution_count": null,
   "id": "iKgM69-JNUgd",
   "metadata": {
    "id": "iKgM69-JNUgd"
   },
   "outputs": [],
   "source": []
  }
 ],
 "metadata": {
  "colab": {
   "include_colab_link": true,
   "provenance": []
  },
  "kernelspec": {
   "display_name": "Python 3 (ipykernel)",
   "language": "python",
   "name": "python3"
  },
  "language_info": {
   "codemirror_mode": {
    "name": "ipython",
    "version": 3
   },
   "file_extension": ".py",
   "mimetype": "text/x-python",
   "name": "python",
   "nbconvert_exporter": "python",
   "pygments_lexer": "ipython3",
   "version": "3.11.7"
  }
 },
 "nbformat": 4,
 "nbformat_minor": 5
}
