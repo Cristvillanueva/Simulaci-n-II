{
 "cells": [
  {
   "cell_type": "markdown",
   "id": "a5cc0a87",
   "metadata": {},
   "source": [
    "# Aproximación a la integral por medio de Monte Carlo de la Media Muestral (MC Crudo) con METODOLOGÍA\n",
    "\\begin{equation*}\n",
    "\\begin{aligned}\n",
    " I = \\int_0^1 \\frac{e^{x}-1}{e-1} \\quad dx\n",
    "\\end{aligned}\n",
    "\\end{equation*}"
   ]
  },
  {
   "cell_type": "markdown",
   "id": "0e218d98",
   "metadata": {},
   "source": [
    "### 1. Identifique las variables \n",
    "\n",
    "Aquellas cuyo comportamiento define el comportamiento o la evoución global del sistema real."
   ]
  },
  {
   "cell_type": "markdown",
   "id": "3ebcd0f2",
   "metadata": {},
   "source": [
    "### 2. Determine la distribución de probabilidad\n",
    "\n",
    "Elija el tipo de distribución de probabilidad que mejor defina el comportamiento aleatorio de cada una de las variables del sistema identificadas en el paso anterior."
   ]
  },
  {
   "cell_type": "markdown",
   "id": "803801d5",
   "metadata": {},
   "source": [
    "### 3. Modele las variables aleatorias \n",
    "\n",
    "Cosntruya un modelo fiel de la aleatoriedad de las variables del sistema. Simular el comportamiento del sistema implica generar muestras aleatorias de cada variable que sigan fielmente la distribución de probabilidad correspondiente."
   ]
  },
  {
   "cell_type": "markdown",
   "id": "33709223",
   "metadata": {},
   "source": [
    "### 4. Defina el modelo del sistema y los objetivos de la simulación \n",
    "\n",
    "Fije los objetivos y diseñe un modelo del sistema real que abstraiga sus propiedades más relevantes. Todo error en el modelo (o su implementación computacional) puede dar lugar a conclusiones equivocadas. \n",
    "\n",
    "Antes de experimentar con el modelo, asegurarse de que refleja fielmente el sistema real **validando** el mismo a partir de datos reales, para ello compare los resultados obtenidos de la simulación con los producidos por el sistema."
   ]
  },
  {
   "cell_type": "markdown",
   "id": "7f853065",
   "metadata": {},
   "source": [
    "### 5. Diseñe el experimento\n",
    "\n",
    "Diseñe un experimento así como las ejecuciones concretas del mismo, los escenarios que desea estudiar para alcanzar los objetivos fijados. El experimento consiste en generar valores de las variables cuyo comportamiento define el comportamiento del sistema y analizar este ante dichos valores."
   ]
  },
  {
   "cell_type": "markdown",
   "id": "15ae61c8",
   "metadata": {},
   "source": [
    "### 6. Repita el experimento $n$ veces \n",
    "\n",
    "Así dispondrá de $n$ observaciones sobre el comportamiento del sistema, lo que permitirá entender su funcionamiento así como evaluar el desempeño del mismo frente a los diversos escenarios establecidos.\n",
    "\n",
    "El **método Monte Carlo** se basa en la **Ley Fuerte de los Grandes Números** y el **Teorema del Límite Central**."
   ]
  },
  {
   "cell_type": "markdown",
   "id": "51ce3fa1",
   "metadata": {},
   "source": [
    "# Ejercicio\n",
    "\n",
    "Aproximar el valor del número pi ($\\pi$) utilizando Monte Carlo Acierto y Error (Hit or Miss)\n",
    "1. Analíticamente.\n",
    "2. Mediante simulación."
   ]
  },
  {
   "cell_type": "markdown",
   "id": "6f1b4105",
   "metadata": {},
   "source": [
    "# **Analiticamente**\n",
    "\\begin{equation*}\n",
    "\\begin{aligned}\n",
    " I = \\int_0^1 \\frac{e^{x}-1}{e-1} \\quad dx\n",
    "\\end{aligned}\n",
    "\\end{equation*}\n",
    "Resolviendo:\n",
    "\\begin{equation*}\n",
    "\\begin{aligned}\n",
    "\\int_0^1 \\frac{e^{x}-1}{e-1} \\quad dx &= \\frac{1}{e-1} \\left[\\int_0^1 e^x \\quad dx - \\int_0^1 1 \\quad dx \\right]\\\\ \n",
    "&= \\frac{1}{e-1} \\left(e^x \\bigg|_0^1 - x \\bigg|_0^1 \\right)\\\\\n",
    "&= \\frac{1}{e-1} \\left( e-e^0-1-0 \\right)\\\\\n",
    "&= \\frac{1}{e-1} (e-2)\\\\\n",
    "&= \\frac{e-2}{e-1}\\\\\n",
    "\\therefore I &= \\frac{e-2}{e-1} \\approx 0.418023 \\quad \\blacksquare\n",
    "\\end{aligned}\n",
    "\\end{equation*}\n"
   ]
  },
  {
   "cell_type": "markdown",
   "id": "564ca694",
   "metadata": {},
   "source": [
    "# **Por simulación: Construimos el modelo en varios pasos.**"
   ]
  },
  {
   "cell_type": "markdown",
   "id": "fbbc8571",
   "metadata": {},
   "source": [
    "**PASO 1**. Defina las variables que intervienen en el modelo."
   ]
  },
  {
   "cell_type": "markdown",
   "id": "019bc684-77fc-4b5d-8a93-e2134013d971",
   "metadata": {},
   "source": [
    "Definimos $u_i \\sim U(0,1)$, como una v.a. uniforme en (0,1) que nos servirá para simular el lanzamiento de un dardo sobre el segmento (0,1)"
   ]
  },
  {
   "cell_type": "markdown",
   "id": "4d3899f3",
   "metadata": {},
   "source": [
    "**PASO 2**. Formule la distribución de probabilidad de cada variable."
   ]
  },
  {
   "cell_type": "markdown",
   "id": "8fde011a-cd9e-4c51-b611-29ddd913ab0f",
   "metadata": {},
   "source": [
    "$$\n",
    "f(u_i)= \n",
    "\\begin{cases} \n",
    "1 & \\text{si } 0 \\leq u_1 \\leq 1 \\\\\n",
    "0 & \\text{en cualquier otro lugar}\n",
    "\\end{cases}\n",
    "$$\n"
   ]
  },
  {
   "cell_type": "markdown",
   "id": "fd02116a",
   "metadata": {},
   "source": [
    "**PASO 3**. Enumere la distribución acumulada de probabilidad de cada variable."
   ]
  },
  {
   "cell_type": "markdown",
   "id": "2fccd3c3-6ba0-4dae-ae20-90e22339fd77",
   "metadata": {},
   "source": [
    "$$\n",
    "F(u_i) = \n",
    "\\begin{cases} \n",
    "0 & \\text{si } u_1 < 0 \\\\\n",
    "u_i & \\text{si } 0 \\leq u_1 \\leq 1 \\\\\n",
    "1 & \\text{si } u_1 > 1\n",
    "\\end{cases}\n",
    "$$\n"
   ]
  },
  {
   "cell_type": "markdown",
   "id": "4852dcac",
   "metadata": {},
   "source": [
    "**PASO 4**. Establezca el intervalo de números aleatorios correspondiente a cada valor de cada una de las variables."
   ]
  },
  {
   "cell_type": "markdown",
   "id": "28749df7-394d-4f67-acf2-9d3416b39cb8",
   "metadata": {},
   "source": [
    "|    Variables |**ui**|\n",
    "|------|-------|\n",
    "|Intervalo|     (0,1)   |\n",
    "\n"
   ]
  },
  {
   "cell_type": "markdown",
   "id": "edb6b074",
   "metadata": {},
   "source": [
    "**PASO 5**. Genere números aleatorios."
   ]
  },
  {
   "cell_type": "code",
   "execution_count": 2,
   "id": "f63ca1d9-96fa-481f-92a2-8ebb1a68973b",
   "metadata": {},
   "outputs": [],
   "source": [
    "import numpy as np\n",
    "import random\n",
    "u = random.uniform(0,1)"
   ]
  },
  {
   "cell_type": "markdown",
   "id": "f38f3396",
   "metadata": {},
   "source": [
    "**PASO 6**. Simule un lanzamiento de un dardo."
   ]
  },
  {
   "cell_type": "markdown",
   "id": "a68ba17e",
   "metadata": {},
   "source": [
    "En el método de MC Crudo la simulación del \"lanzamiento\" de un dardo significa generar un valor $x_i$ de la v.a. \n",
    "$$X \\sim U(a,b)$$\n",
    "\n",
    "Luego, el integrando $f(x)$ se evalúa sobre $x_i$.\n",
    "\n",
    "En este caso $a=0,\\ b=1$"
   ]
  },
  {
   "cell_type": "markdown",
   "id": "d270399e",
   "metadata": {},
   "source": [
    "**PASO 7**. Obtenga la gráfica de estabilización que indica que el tamaño de muestra utilizado es suficiente para \n",
    "garantizar la convergencia del resultado."
   ]
  },
  {
   "cell_type": "code",
   "execution_count": 3,
   "id": "2fd22e33",
   "metadata": {},
   "outputs": [],
   "source": [
    "import numpy as np\n",
    "import random\n",
    "import math\n",
    "import matplotlib.pyplot as plt"
   ]
  },
  {
   "cell_type": "code",
   "execution_count": 4,
   "id": "32719c0f",
   "metadata": {},
   "outputs": [],
   "source": [
    "def funcion(x): #Definimos la función a la cual le queremos calcular la integral en cierto intervalo.\n",
    "    return ((math.exp(x)-1)/(math.exp(1)-1))"
   ]
  },
  {
   "cell_type": "markdown",
   "id": "63542f20-30de-4712-b40b-a6891e518a08",
   "metadata": {},
   "source": [
    "En esencia el algortimo de Monte Carlo de la Media Muestral es:\n",
    "\\begin{equation*}\n",
    "\\begin{aligned}\n",
    " \\theta &= \\int_0^1 \\frac{e^{x}-1}{e-1} \\quad dx \\\\\n",
    " \\overline{\\theta} &= \\frac{1}{n} \\sum_{i=1}^n f(u_i) \\quad \\quad \\text{en donde  } \\quad u_i \\sim U(0,1) \\quad \\text{   i = 1,...,n}\n",
    "\\end{aligned}\n",
    "\\end{equation*}\n"
   ]
  },
  {
   "cell_type": "code",
   "execution_count": 5,
   "id": "423546a4",
   "metadata": {},
   "outputs": [],
   "source": [
    "def experimentos(n): #Definimos una función que realizara \n",
    "    aprox = 0 #Contador que ira sumando las evaluaciones de la función en el intervalo de integración N cantidad de veces.\n",
    "    integral=[] #Guardara las aproximaciones del área bajo la curva de la función.\n",
    "    ensayos=[]\n",
    "    band=1\n",
    "    error = 0.5*(10E-4)\n",
    "    estabilidad = 0\n",
    "    \n",
    "    for i in range(1,n+1):\n",
    "        aprox = aprox + funcion(random.random()) #Cada vez va sumando la evaluación de la función hasta llegar N cantidad de veces\n",
    "        ensayos.append(i) #Se va guardando en una lista la iteración i.\n",
    "        integral.append(aprox/i) #Se va guardadndo la aproximación a la integral en la iteración i.\n",
    "        \n",
    "        #CONDICIÓN DE ESTABILIDAD\n",
    "        dif = abs(integral[i-1] - integral[i - 2])\n",
    "        if dif < error:\n",
    "            estabilidad += 1\n",
    "        else:\n",
    "            estabilidad = 0\n",
    "        \n",
    "        if estabilidad > 10 and band:\n",
    "            estable = i\n",
    "            band = 0\n",
    "        elif not band:\n",
    "            pass\n",
    "        else:\n",
    "            estable = i-1\n",
    "    return integral,estable #Regresamos una lista de las aproxiamciones al valor de la integral de todas las iteraciones. \n",
    "                            #así como el paso \"i\" en el cual se cumple la condicion de estado estable"
   ]
  },
  {
   "cell_type": "code",
   "execution_count": 6,
   "id": "0d2847cf",
   "metadata": {
    "scrolled": true
   },
   "outputs": [],
   "source": [
    "exp = experimentos(1500) #Hara el experimento antes descrito 1500 veces, es decir, nos dara \n",
    "#1500 aproximaciones a la integral para ver cuando se logra estabilizar."
   ]
  },
  {
   "cell_type": "code",
   "execution_count": 7,
   "id": "80e6e939-4848-4aa8-bef6-80d7640225c2",
   "metadata": {},
   "outputs": [
    {
     "data": {
      "text/plain": [
       "0.41851086726787806"
      ]
     },
     "execution_count": 7,
     "metadata": {},
     "output_type": "execute_result"
    }
   ],
   "source": [
    "np.mean(exp[0]) #Saca la media de los experimentos, eso nos dará una idea de la aproximación al valor de la integral."
   ]
  },
  {
   "cell_type": "code",
   "execution_count": 8,
   "id": "ef68f87c",
   "metadata": {},
   "outputs": [
    {
     "data": {
      "image/png": "[encoded data removed]",
      "text/plain": [
       "<Figure size 640x480 with 1 Axes>"
      ]
     },
     "metadata": {},
     "output_type": "display_data"
    }
   ],
   "source": [
    "plt.plot(exp[0]) #Grafica la lista de aproximaciones de acuerdo a la cantidad de experimentos realizados.\n",
    "plt.xlabel('iteraciones')\n",
    "plt.ylabel('Aproximación en la iteración i')\n",
    "plt.title('Aproximación a la integral')\n",
    "\n",
    "# Agrega una línea vertical en la iteración 750 que de manera visual es donde comienza el estado estable.\n",
    "plt.axvline(x=exp[1], color='red', linestyle='--', label=f'Estado Estable en {exp[1]}')\n",
    "\n",
    "plt.legend()  # Muestra la leyenda si es necesario\n",
    "plt.show()\n"
   ]
  },
  {
   "cell_type": "markdown",
   "id": "f596fcd1",
   "metadata": {},
   "source": [
    "**PASO 8**. Replique el modelo."
   ]
  },
  {
   "cell_type": "code",
   "execution_count": 9,
   "id": "b237f0d0",
   "metadata": {},
   "outputs": [],
   "source": [
    "def valor(repeticiones): #Esta función hara la simulación anterior muchas veces, es decir, hará \"repeticiones\" cantidad de veces\n",
    "    Area = []\n",
    "    for i in range(repeticiones):\n",
    "        Area.append(np.mean(experimentos(exp[1])[0])) #Calcula la media de 750 experiementos unas N (repeticiones) cantidad de veces.\n",
    "    return Area #Nos regresa N (repeticiones) medias de 750 experimentos cada una."
   ]
  },
  {
   "cell_type": "code",
   "execution_count": 11,
   "id": "d060db89",
   "metadata": {},
   "outputs": [],
   "source": [
    "N=100\n",
    "simulacion = valor(N)"
   ]
  },
  {
   "cell_type": "code",
   "execution_count": 12,
   "id": "7de3bcbd-40b0-4a15-8671-89309c3ae34e",
   "metadata": {},
   "outputs": [
    {
     "data": {
      "text/plain": [
       "0.4191902821810792"
      ]
     },
     "execution_count": 12,
     "metadata": {},
     "output_type": "execute_result"
    }
   ],
   "source": [
    "np.mean(simulacion) #Saca la media de las N simulaciones realizadas, eso nos dará una mejor de la aproximación al valor de la integral."
   ]
  },
  {
   "cell_type": "code",
   "execution_count": 14,
   "id": "cc0b958d",
   "metadata": {},
   "outputs": [
    {
     "data": {
      "image/png": "[encoded data removed]",
      "text/plain": [
       "<Figure size 640x480 with 1 Axes>"
      ]
     },
     "metadata": {},
     "output_type": "display_data"
    }
   ],
   "source": [
    "plt.hist(simulacion) #Grafica las frecuencias de la aproximación al valor de la integral de las N simualciones con 750 experiementos cada una.\n",
    "plt.xlabel('iteraciones')\n",
    "plt.ylabel('Frecuencia')\n",
    "plt.title('Aproximación a la integral')\n",
    "plt.show()"
   ]
  },
  {
   "cell_type": "markdown",
   "id": "6e9bd469",
   "metadata": {},
   "source": [
    "**PASO 9**. Calcule la media del área bajo la curva de la función y su desviación estándar."
   ]
  },
  {
   "cell_type": "code",
   "execution_count": 15,
   "id": "dbeb0461",
   "metadata": {},
   "outputs": [],
   "source": [
    "media = np.mean(simulacion) #Calcula la media de esas N simulaciones\n",
    "var = np.var(simulacion) #Calcula la varianza de esas N simulaciones\n",
    "desv = np.std(simulacion) #Calcula la desvaicion de esas N simulaciones"
   ]
  },
  {
   "cell_type": "markdown",
   "id": "db8776d2",
   "metadata": {},
   "source": [
    "**PASO 10**. Halle el intervalo de confianza del valor de la integral con un nivel de confianza del $95 \\%$.\n",
    "\\begin{equation*}\n",
    "\\overline{x}- Z_{\\frac{\\alpha}{2}}  \\cdot \\frac{S}{\\sqrt{N}} < \\mu < \\overline{x}+ Z_{\\frac{\\alpha}{2}}  \\cdot \\frac{S}{\\sqrt{N}}\n",
    "\\end{equation*}"
   ]
  },
  {
   "cell_type": "code",
   "execution_count": 16,
   "id": "e5132329",
   "metadata": {},
   "outputs": [
    {
     "name": "stdout",
     "output_type": "stream",
     "text": [
      "Entonces:  0.41659344358839634 < μ < 0.421787120773762\n"
     ]
    }
   ],
   "source": [
    "from scipy.stats import norm #Importamos la libreria para poder obtener el valor de Z.\n",
    "alpha = 1 - 0.95 #Alpha es igual a 1 - la confianza del intervalo\n",
    "z_alpha_2 = norm.ppf(1-alpha / 2) #Mandamos a pedir el valor de Z para \\alpha/2, sabemos que si es el 95% de confienza, Z esta cercano al 1.96.\n",
    "l_inferior = media - z_alpha_2 * (desv / math.sqrt(N)) #Sacamos limite inferior por la formula\n",
    "l_superior = media + z_alpha_2 * (desv / math.sqrt(N)) #Sacamos limite superior por la formula\n",
    "print(\"Entonces: \", l_inferior, \"< \\u03BC <\", l_superior) #El intervalo en donde se encuentra el valor real a una confienza del 95%"
   ]
  }
 ],
 "metadata": {
  "kernelspec": {
   "display_name": "Python 3 (ipykernel)",
   "language": "python",
   "name": "python3"
  },
  "language_info": {
   "codemirror_mode": {
    "name": "ipython",
    "version": 3
   },
   "file_extension": ".py",
   "mimetype": "text/x-python",
   "name": "python",
   "nbconvert_exporter": "python",
   "pygments_lexer": "ipython3",
   "version": "3.11.7"
  }
 },
 "nbformat": 4,
 "nbformat_minor": 5
}
