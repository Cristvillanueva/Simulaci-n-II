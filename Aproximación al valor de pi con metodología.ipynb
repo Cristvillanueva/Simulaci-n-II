{
  "nbformat": 4,
  "nbformat_minor": 0,
  "metadata": {
    "colab": {
      "provenance": [],
      "authorship_tag": "ABX9TyMqQSalVPiljvwlf5lipMKj",
      "include_colab_link": true
    },
    "kernelspec": {
      "name": "python3",
      "display_name": "Python 3"
    },
    "language_info": {
      "name": "python"
    }
  },
  "cells": [
    {
      "cell_type": "markdown",
      "metadata": {
        "id": "view-in-github",
        "colab_type": "text"
      },
      "source": [
        "<a href=\"https://colab.research.google.com/github/Cristvillanueva/Simulaci-n-II/blob/main/Aproximaci%C3%B3n%20al%20valor%20de%20pi%20con%20metodolog%C3%ADa.ipynb\" target=\"_parent\"><img src=\"https://colab.research.google.com/assets/colab-badge.svg\" alt=\"Open In Colab\"/></a>"
      ]
    },
    {
      "cell_type": "markdown",
      "source": [
        "# Aproximación a $\\pi$ por medio de Monte Carlo Acierto y Error (Hit or Miss) con METODOLOGÍA\n",
        "\n",
        "\\begin{equation*}\n",
        "\\begin{aligned}\n",
        " I = \\int_0^1 \\sqrt{1-x^2} \\quad dx\n",
        "\\end{aligned}\n",
        "\\end{equation*}"
      ],
      "metadata": {
        "id": "bMhXlRB29w8l"
      }
    },
    {
      "cell_type": "markdown",
      "source": [
        "**PASO 7**. Obtenga la gráfica de estabilización que indica que el tamaño de muestra utilizado es suficiente para\n",
        "garantizar la convergencia del resultado."
      ],
      "metadata": {
        "id": "lRP5dLmk952w"
      }
    },
    {
      "cell_type": "code",
      "source": [
        "import numpy as np\n",
        "import math\n",
        "import random\n",
        "import matplotlib.pyplot as plt"
      ],
      "metadata": {
        "id": "ttuQBsg1-AKJ"
      },
      "execution_count": 1,
      "outputs": []
    },
    {
      "cell_type": "code",
      "source": [
        "def funcion(x):\n",
        "    return math.sqrt(1-x**2)"
      ],
      "metadata": {
        "id": "1XipjToc-Cwt"
      },
      "execution_count": 3,
      "outputs": []
    },
    {
      "cell_type": "code",
      "source": [
        "def experimentos(n):\n",
        "  a=0\n",
        "  b=1\n",
        "  c = 2\n",
        "  aciertos = 0\n",
        "  area=[]\n",
        "  ensayos=[]\n",
        "  for i in range(1,n+1):\n",
        "      u1=(random.random())\n",
        "      u2=(random.random())\n",
        "      x = (b-a)*u1+a\n",
        "      g_x = funcion(x)\n",
        "      if g_x > c*u2:\n",
        "        aciertos += 1\n",
        "      ensayos.append(i)\n",
        "      area.append(c*(b-a)*aciertos*4/i)\n",
        "  return area"
      ],
      "metadata": {
        "id": "c56cwDr0-Et_"
      },
      "execution_count": 4,
      "outputs": []
    },
    {
      "cell_type": "code",
      "source": [
        "exp = experimentos(2000)"
      ],
      "metadata": {
        "id": "JzrkxNVC-Gr7"
      },
      "execution_count": 5,
      "outputs": []
    },
    {
      "cell_type": "code",
      "source": [
        "np.mean(exp)"
      ],
      "metadata": {
        "colab": {
          "base_uri": "https://localhost:8080/"
        },
        "id": "CI0lmZNy-Ilr",
        "outputId": "7925cf25-b7ed-44f5-e2e1-fb103db23483"
      },
      "execution_count": 6,
      "outputs": [
        {
          "output_type": "execute_result",
          "data": {
            "text/plain": [
              "3.2616722305195536"
            ]
          },
          "metadata": {},
          "execution_count": 6
        }
      ]
    },
    {
      "cell_type": "code",
      "source": [
        "plt.plot(exp)\n",
        "plt.xlabel('iteraciones')\n",
        "plt.ylabel('Valor de $\\pi$')\n",
        "plt.title('Aproximación del valor de $\\pi$')\n",
        "plt.show()"
      ],
      "metadata": {
        "colab": {
          "base_uri": "https://localhost:8080/",
          "height": 475
        },
        "id": "oSt57jHC-Ke7",
        "outputId": "a2951432-465a-4ef0-a4a1-ad5d6dda3ded"
      },
      "execution_count": 7,
      "outputs": [
        {
          "output_type": "display_data",
          "data": {
            "text/plain": [
              "<Figure size 640x480 with 1 Axes>"
            ],
            "image/png": "[encoded data removed]"
          },
          "metadata": {}
        }
      ]
    },
    {
      "cell_type": "markdown",
      "source": [
        "**PASO 8**. Replique el modelo."
      ],
      "metadata": {
        "id": "8B0GNSys-OHa"
      }
    },
    {
      "cell_type": "code",
      "source": [
        "def valor_pi(repeticiones):\n",
        "    Area = []\n",
        "    for i in range(repeticiones):\n",
        "        Area.append(np.mean(experimentos(2000)))\n",
        "    return Area"
      ],
      "metadata": {
        "id": "mDgcWIrz-OmH"
      },
      "execution_count": 8,
      "outputs": []
    },
    {
      "cell_type": "code",
      "source": [
        "N=50\n",
        "simulacion = valor_pi(N)"
      ],
      "metadata": {
        "id": "82TLY2NB-QvE"
      },
      "execution_count": 9,
      "outputs": []
    },
    {
      "cell_type": "code",
      "source": [
        "plt.hist(simulacion)\n",
        "plt.xlabel('Valor de $\\pi$')\n",
        "plt.ylabel('Frecuencia')\n",
        "plt.title('Histograma del valor de $\\pi$')\n",
        "plt.show()"
      ],
      "metadata": {
        "colab": {
          "base_uri": "https://localhost:8080/",
          "height": 475
        },
        "id": "GkvLstcK-SkZ",
        "outputId": "d3232585-66f9-4542-af78-ed50a646bfea"
      },
      "execution_count": 10,
      "outputs": [
        {
          "output_type": "display_data",
          "data": {
            "text/plain": [
              "<Figure size 640x480 with 1 Axes>"
            ],
            "image/png": "[encoded data removed]"
          },
          "metadata": {}
        }
      ]
    },
    {
      "cell_type": "markdown",
      "source": [
        "**PASO 9**. Calcule la media del valor de $\\pi$ y su desviación\n",
        "estándar."
      ],
      "metadata": {
        "id": "uofRkOir-X9L"
      }
    },
    {
      "cell_type": "code",
      "source": [
        "media = np.mean(simulacion)\n",
        "var = np.var(simulacion)\n",
        "desv = np.std(simulacion)"
      ],
      "metadata": {
        "id": "79UteyqM-aRB"
      },
      "execution_count": 11,
      "outputs": []
    },
    {
      "cell_type": "markdown",
      "source": [
        "**PASO 10**. Halle el intervalo de confianza del valor de $\\pi$ con un nivel de confianza del $95 \\%$."
      ],
      "metadata": {
        "id": "-z7h9Mdu-b4o"
      }
    },
    {
      "cell_type": "code",
      "source": [
        "from scipy.stats import norm\n",
        "alpha = 1 - 0.95\n",
        "z_alpha_2 = norm.ppf(1-alpha / 2)\n",
        "l_inferior = media - z_alpha_2 * (desv / math.sqrt(N))\n",
        "l_superior = media + z_alpha_2 * (desv / math.sqrt(N))\n",
        "print(\"Entonces: \", l_inferior, \"< \\u03BC <\", l_superior)"
      ],
      "metadata": {
        "colab": {
          "base_uri": "https://localhost:8080/"
        },
        "id": "m9XG9qtQ-edC",
        "outputId": "891faf4a-ed5f-436c-e725-48687d8f2e2e"
      },
      "execution_count": 12,
      "outputs": [
        {
          "output_type": "stream",
          "name": "stdout",
          "text": [
            "Entonces:  3.097161122849478 < μ < 3.156139602522499\n"
          ]
        }
      ]
    }
  ]
}