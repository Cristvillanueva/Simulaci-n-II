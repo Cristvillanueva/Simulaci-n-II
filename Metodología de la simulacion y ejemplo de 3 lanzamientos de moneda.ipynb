{
 "cells": [
  {
   "cell_type": "markdown",
   "id": "4366cf53",
   "metadata": {
    "colab_type": "text",
    "id": "view-in-github"
   },
   "source": [
    "<a href=\"https://colab.research.google.com/github/Cristvillanueva/Simulaci-n-II/blob/main/Unidad%20II/Metodolog%C3%ADa.ipynb\" target=\"_parent\"><img src=\"https://colab.research.google.com/assets/colab-badge.svg\" alt=\"Open In Colab\"/></a>"
   ]
  },
  {
   "cell_type": "markdown",
   "id": "a5cc0a87",
   "metadata": {
    "id": "a5cc0a87"
   },
   "source": [
    "# Metodología de la Simulación y ejemplo de 3 lanzamientos de moneda"
   ]
  },
  {
   "cell_type": "markdown",
   "id": "0e218d98",
   "metadata": {
    "id": "0e218d98"
   },
   "source": [
    "### 1. Identifique las variables\n",
    "\n",
    "Aquellas cuyo comportamiento define el comportamiento o la evoución global del sistema real."
   ]
  },
  {
   "cell_type": "markdown",
   "id": "3ebcd0f2",
   "metadata": {
    "id": "3ebcd0f2"
   },
   "source": [
    "### 2. Determine la distribución de probabilidad\n",
    "\n",
    "Elija el tipo de distribución de probabilidad que mejor defina el comportamiento aleatorio de cada una de las variables del sistema identificadas en el paso anterior."
   ]
  },
  {
   "cell_type": "markdown",
   "id": "803801d5",
   "metadata": {
    "id": "803801d5"
   },
   "source": [
    "### 3. Modele las variables aleatorias\n",
    "\n",
    "Construya un modelo fiel de la aleatoriedad de las variables del sistema. Simular el comportamiento del sistema implica generar muestras aleatorias de cada variable que sigan fielmente la distribución de probabilidad correspondiente."
   ]
  },
  {
   "cell_type": "markdown",
   "id": "33709223",
   "metadata": {
    "id": "33709223"
   },
   "source": [
    "### 4. Defina el modelo del sistema y los objetivos de la simulación\n",
    "\n",
    "Fije los objetivos y diseñe un modelo del sistema real que abstraiga sus propiedades más relevantes. Todo error en el modelo (o su implementación computacional) puede dar lugar a conclusiones equivocadas.\n",
    "\n",
    "Antes de experimentar con el modelo, asegurarse de que refleja fielmente el sistema real **validando** el mismo a partir de datos reales, para ello compare los resultados obtenidos de la simulación con los producidos por el sistema."
   ]
  },
  {
   "cell_type": "markdown",
   "id": "7f853065",
   "metadata": {
    "id": "7f853065"
   },
   "source": [
    "### 5. Diseñe el experimento\n",
    "\n",
    "Diseñe un experimento así como las ejecuciones concretas del mismo, los escenarios que desea estudiar para alcanzar los objetivos fijados. El experimento consiste en generar valores de las variables cuyo comportamiento define el comportamiento del sistema y analizar este ante dichos valores."
   ]
  },
  {
   "cell_type": "markdown",
   "id": "15ae61c8",
   "metadata": {
    "id": "15ae61c8"
   },
   "source": [
    "### 6. Repita el experimento $n$ veces\n",
    "\n",
    "Así dispondrá de $n$ observaciones sobre el comportamiento del sistema, lo que permitirá entender su funcionamiento así como evaluar el desempeño del mismo frente a los diversos escenarios establecidos.\n",
    "\n",
    "El **método Monte Carlo** se basa en la **Ley Fuerte de los Grandes Números** y el **Teorema del Límite Central**."
   ]
  },
  {
   "cell_type": "markdown",
   "id": "51ce3fa1",
   "metadata": {
    "id": "51ce3fa1"
   },
   "source": [
    "## Ejemplo\n",
    "\n",
    "Calcule la probabilidad de que aparezcan dos caras lanzando tres veces una moneda al aire.\n",
    "\n",
    "1. Analíticamente.\n",
    "2. Mediante simulación."
   ]
  },
  {
   "cell_type": "markdown",
   "id": "6f1b4105",
   "metadata": {
    "id": "6f1b4105"
   },
   "source": [
    "Analiticamente:"
   ]
  },
  {
   "cell_type": "markdown",
   "id": "0DiHi1W5vsXg",
   "metadata": {
    "id": "0DiHi1W5vsXg"
   },
   "source": [
    "De la distribución binomial se tiene que:\n",
    "\\begin{equation*}\n",
    "\\begin{aligned}\n",
    "\\binom{n}{x}(p)^x(1-p)^{n-x} \\\\\n",
    "\\binom{3}{2}(0.5)^2(0.5)^1 = 0.375\n",
    "\\end{aligned}\n",
    "\\end{equation*}\n",
    "Entonces, la probabilidad que caigan dos caras en 3 lanzamientos es:\n",
    "\\begin{equation*}\n",
    "\\begin{aligned}\n",
    "\\text{Probabilidad de 2 caras =} 0.375\n",
    "\\end{aligned}\n",
    "\\end{equation*}"
   ]
  },
  {
   "cell_type": "markdown",
   "id": "564ca694",
   "metadata": {
    "id": "564ca694"
   },
   "source": [
    "Por simulación: Construimos el modelo en varios pasos."
   ]
  },
  {
   "cell_type": "markdown",
   "id": "fbbc8571",
   "metadata": {
    "id": "fbbc8571"
   },
   "source": [
    "**PASO 1**. Defina las variables que intervienen en el modelo."
   ]
  },
  {
   "cell_type": "markdown",
   "id": "UHA2uzuIxSLY",
   "metadata": {
    "id": "UHA2uzuIxSLY"
   },
   "source": [
    "Sea $X$ una variable aleatoria que determina la cantidad de caras que caen en 3 lanzamientos de una moneda, es decir\n",
    "\\begin{equation*}\n",
    "\\begin{aligned}\n",
    "X = \\{0,1,2,3\\}\n",
    "\\end{aligned}\n",
    "\\end{equation*}"
   ]
  },
  {
   "cell_type": "markdown",
   "id": "4d3899f3",
   "metadata": {
    "id": "4d3899f3"
   },
   "source": [
    "**PASO 2**. Formule la distribución de probabilidad de cada variable."
   ]
  },
  {
   "cell_type": "markdown",
   "id": "fefa1334",
   "metadata": {
    "id": "fefa1334"
   },
   "source": [
    "\n",
    "|      |**Sol**|**Aguila**|\n",
    "|------|-------|----------|\n",
    "|f(x)|     0.5    |  0.5        |"
   ]
  },
  {
   "cell_type": "markdown",
   "id": "fd02116a",
   "metadata": {
    "id": "fd02116a"
   },
   "source": [
    "**PASO 3**. Enumere la distribución acumulada de probabilidad de cada variable."
   ]
  },
  {
   "cell_type": "markdown",
   "id": "59e252c6",
   "metadata": {
    "id": "59e252c6"
   },
   "source": [
    "|      |**Sol**|**Aguila**|\n",
    "|------|-------|----------|\n",
    "|f(x)  |     0.5  |      0.5    |\n",
    "|F(x)  |      0.5 |        1.0  |"
   ]
  },
  {
   "cell_type": "markdown",
   "id": "4852dcac",
   "metadata": {
    "id": "4852dcac"
   },
   "source": [
    "**PASO 4**. Establezca el intervalo de números aleatorios correspondiente a cada valor de cada una de las variables."
   ]
  },
  {
   "cell_type": "markdown",
   "id": "905db069",
   "metadata": {
    "id": "905db069"
   },
   "source": [
    "|           |**Sol**|**Aguila**|\n",
    "|-----------|-------|----------|\n",
    "|f(x)       |   0.5    |        0.5  |\n",
    "|F(x)       |    0.5   |    1.0      |\n",
    "|Intervalos |    \\[0, 0.499\\]   |     \\[0.5, 0.999\\]     |"
   ]
  },
  {
   "cell_type": "markdown",
   "id": "edb6b074",
   "metadata": {
    "id": "edb6b074"
   },
   "source": [
    "**PASO 5**. Genere números aleatorios."
   ]
  },
  {
   "cell_type": "markdown",
   "id": "f38f3396",
   "metadata": {
    "id": "f38f3396"
   },
   "source": [
    "**PASO 6**. Simule un lanzamiento."
   ]
  },
  {
   "cell_type": "markdown",
   "id": "a68ba17e",
   "metadata": {
    "id": "a68ba17e"
   },
   "source": [
    "Si Número de caras = 2       \n",
    "\n",
    "¿Aparecen dos caras? = **1**\n",
    "\n",
    "Si Número de caras ≠ 2       \n",
    "\n",
    "¿Aparecen dos caras? = **0**"
   ]
  },
  {
   "cell_type": "markdown",
   "id": "d270399e",
   "metadata": {
    "id": "d270399e"
   },
   "source": [
    "**PASO 7**. Obtenga la gráfica de estabilización que indica que el tamaño de muestra utilizado es suficiente para\n",
    "garantizar la convergencia del resultado."
   ]
  },
  {
   "cell_type": "code",
   "execution_count": 50,
   "id": "2fd22e33",
   "metadata": {
    "id": "2fd22e33"
   },
   "outputs": [],
   "source": [
    "import numpy as np\n",
    "import random\n",
    "import matplotlib.pyplot as plt\n",
    "import math"
   ]
  },
  {
   "cell_type": "code",
   "execution_count": 51,
   "id": "32719c0f",
   "metadata": {
    "id": "32719c0f"
   },
   "outputs": [],
   "source": [
    "def volados(n): #Esta función requiere la cantidad de lanzamientos de la moneda (n)\n",
    "    caras = 0 #Necesitamos un contador que cuente la cantidad de caras que salieron en los n lanzamientos\n",
    "    for i in range(n):\n",
    "        u = random.uniform(0,1) #Generamos un aleatorio entre (0,1)\n",
    "        if u <= 0.5: #Si el aleatorio generado anteriormente es menor o igual a 0.5, entonces significa que cayo cara la moneda\n",
    "            caras += 1 #Si se cumple la condición anterior, entonces la cantidad de caras aumenta 1.\n",
    "    return caras #Regresa el número de caras que salieron en n lanzamientos.\n"
   ]
  },
  {
   "cell_type": "code",
   "execution_count": 52,
   "id": "423546a4",
   "metadata": {
    "id": "423546a4"
   },
   "outputs": [],
   "source": [
    "def caras(m): #Esta función requiere la cantidad de caras exactas a las cuales queremos calcularme la probabilidad de caer en n lanzamientos. \n",
    "    favorable = 0\n",
    "    if volados(3) == m: #Si la función volados nos regresa exactamente la cantidad de caras que requerimos (m)\n",
    "        favorable +=1 #Entonces el contador favorable ahora valdra 1\n",
    "    return favorable #Regresa 1 si la condición se cumple, regresa 0 si no se cumple."
   ]
  },
  {
   "cell_type": "code",
   "execution_count": 53,
   "id": "0d2847cf",
   "metadata": {
    "id": "0d2847cf"
   },
   "outputs": [],
   "source": [
    "def experimento(iteraciones): #Esta función hara el lanzamiento de n monedas (en nuestro caso 3) cierta cantidad de veces (iteraciones)\n",
    "    i = 0\n",
    "    favorables=0  #Contador que nos dira en i iteración cuentas veces cayo m (2) caras en n (3) lanzamientos de moneda.\n",
    "    Lista = [] #Guardara la probabilidad de caer m (2) caras en n (3) lanzamientos de moneda en la iteración i.\n",
    "    while i <= iteraciones:\n",
    "        favorables = favorables + caras(2)\n",
    "        i += 1\n",
    "        probabilidad = favorables/i #Calcula la probabilidad mencionada en Lista.\n",
    "        Lista.append(probabilidad)\n",
    "    return Lista #Regresa una lista de la probabilidad de caer m (2) caras en n (3) lanzamientos en cada iteración. "
   ]
  },
  {
   "cell_type": "code",
   "execution_count": 54,
   "id": "548249d8",
   "metadata": {
    "id": "548249d8"
   },
   "outputs": [],
   "source": [
    "exp = experimento(2000) #Hara el experimento antes descrito 2000 veces, es decir, nos dara 2000 probabilidades"
   ]
  },
  {
   "cell_type": "code",
   "execution_count": 55,
   "id": "566325f4",
   "metadata": {
    "colab": {
     "base_uri": "https://localhost:8080/"
    },
    "id": "566325f4",
    "outputId": "07bd1993-f404-4ddb-e27e-80e97992492e"
   },
   "outputs": [
    {
     "data": {
      "text/plain": [
       "0.40070428695998217"
      ]
     },
     "execution_count": 55,
     "metadata": {},
     "output_type": "execute_result"
    }
   ],
   "source": [
    "np.mean(exp) #Saca la media de los experiemntos anteriores, eso nos dara una aproximación a la probabilidad."
   ]
  },
  {
   "cell_type": "code",
   "execution_count": 56,
   "id": "ef68f87c",
   "metadata": {
    "colab": {
     "base_uri": "https://localhost:8080/",
     "height": 472
    },
    "id": "ef68f87c",
    "outputId": "cd4a1f39-0675-4b7b-83ab-612ee682f6ce"
   },
   "outputs": [
    {
     "data": {
      "image/png": "[encoded data removed]",
      "text/plain": [
       "<Figure size 640x480 with 1 Axes>"
      ]
     },
     "metadata": {},
     "output_type": "display_data"
    }
   ],
   "source": [
    "plt.plot(exp)  #Grafica la lista de probabilidades\n",
    "plt.xlabel('iteraciones')\n",
    "plt.ylabel('p')\n",
    "plt.title('Probabilidad de obtener 2 caras')\n",
    "plt.show()"
   ]
  },
  {
   "cell_type": "markdown",
   "id": "f596fcd1",
   "metadata": {
    "id": "f596fcd1"
   },
   "source": [
    "**PASO 8**. Replique el modelo."
   ]
  },
  {
   "cell_type": "code",
   "execution_count": 57,
   "id": "b237f0d0",
   "metadata": {
    "id": "b237f0d0"
   },
   "outputs": [],
   "source": [
    "def simulacion_caras(repeticiones): #Esta función hara la simulacion anterior muchas veces, es decir, hará \"repeticiones\" simulaciones.\n",
    "    List = []\n",
    "    for i in range(repeticiones):\n",
    "        List.append(np.mean(experimento(1000))) #Calcula la media de 1000 experiementos unas N (repeticiones) cantidad de veces \n",
    "    return List #Nos regresa N (repeticiones) medias de 1000 experiemntos cada una."
   ]
  },
  {
   "cell_type": "code",
   "execution_count": 58,
   "id": "d060db89",
   "metadata": {
    "id": "d060db89"
   },
   "outputs": [],
   "source": [
    "N=100\n",
    "simulacion = simulacion_caras(N)"
   ]
  },
  {
   "cell_type": "code",
   "execution_count": 59,
   "id": "cc0b958d",
   "metadata": {
    "colab": {
     "base_uri": "https://localhost:8080/",
     "height": 472
    },
    "id": "cc0b958d",
    "outputId": "75cd2eb9-9dd9-4fb0-bc8a-ff54f9240700"
   },
   "outputs": [
    {
     "data": {
      "image/png": "[encoded data removed]",
      "text/plain": [
       "<Figure size 640x480 with 1 Axes>"
      ]
     },
     "metadata": {},
     "output_type": "display_data"
    }
   ],
   "source": [
    "plt.hist(simulacion) #Grafica las frecuencias de la probabilidad de las N simualciones con 1000 experiemntos cada una en un histograma.\n",
    "plt.xlabel('Probabilidad de caer 2 caras en 3 lanzamientos de moneda.')\n",
    "plt.ylabel('Frecuencia')\n",
    "plt.title('Probabilidad')\n",
    "plt.show()"
   ]
  },
  {
   "cell_type": "markdown",
   "id": "6e9bd469",
   "metadata": {
    "id": "6e9bd469"
   },
   "source": [
    "**PASO 9**. Calcule la probabilidad de que aparezcan dos caras lanzando tres veces una moneda al aire y su desviación\n",
    "estándar."
   ]
  },
  {
   "cell_type": "code",
   "execution_count": 60,
   "id": "dbeb0461",
   "metadata": {
    "colab": {
     "base_uri": "https://localhost:8080/"
    },
    "id": "dbeb0461",
    "outputId": "14755a95-77b4-4496-8a68-1b6749ba0da6"
   },
   "outputs": [],
   "source": [
    "media = np.mean(simulacion) #Calcula la media de esas N simulaciones\n",
    "var = np.var(simulacion) #Calcula la varianza de esas N simulaciones\n",
    "desv = np.std(simulacion) #Calcula la desvaicion de esas N simulaciones"
   ]
  },
  {
   "cell_type": "markdown",
   "id": "db8776d2",
   "metadata": {
    "id": "db8776d2"
   },
   "source": [
    "**PASO 10**. Halle el intervalo de confianza de la probabilidad de que aparezcan dos caras lanzando tres veces una moneda\n",
    "al aire con un nivel de confianza del $95 \\%$. Sabemos que para el intervalo de confianza:\n",
    "\\begin{equation*}\n",
    "\\overline{x}- Z_{\\frac{\\alpha}{2}}  \\cdot \\frac{S}{\\sqrt{N}} < \\mu < \\overline{x}+ Z_{\\frac{\\alpha}{2}}  \\cdot \\frac{S}{\\sqrt{N}}\n",
    "\\end{equation*}"
   ]
  },
  {
   "cell_type": "code",
   "execution_count": 61,
   "id": "e5132329",
   "metadata": {
    "colab": {
     "base_uri": "https://localhost:8080/"
    },
    "id": "e5132329",
    "outputId": "ebfed386-eafe-4518-9b7e-f36c973efba6"
   },
   "outputs": [
    {
     "name": "stdout",
     "output_type": "stream",
     "text": [
      "Entonces:  0.36652289521563536 < μ < 0.3787587812194017\n"
     ]
    }
   ],
   "source": [
    "from scipy.stats import norm #Importamos la libreria para poder obtener el valor de Z.\n",
    "alpha = 1 - 0.95 #Alpha es igual a 1 - la confianza del intervalo\n",
    "z_alpha_2 = norm.ppf(1-alpha / 2) #Mandamos a pedir el valor de Z para \\alpha/2, sabemos que si es el 95% de confienza, Z esta cercano al 1.96.\n",
    "l_inferior = media - z_alpha_2 * (desv / math.sqrt(N)) #Sacamos limite inferior por la formula\n",
    "l_superior = media + z_alpha_2 * (desv / math.sqrt(N)) #Sacamos limite superior por la formula\n",
    "print(\"Entonces: \", l_inferior, \"< \\u03BC <\", l_superior) #El intervalo en donde se encuentra el valor real a una confienza del 95%\n",
    "\n"
   ]
  }
 ],
 "metadata": {
  "colab": {
   "include_colab_link": true,
   "provenance": []
  },
  "kernelspec": {
   "display_name": "Python 3 (ipykernel)",
   "language": "python",
   "name": "python3"
  },
  "language_info": {
   "codemirror_mode": {
    "name": "ipython",
    "version": 3
   },
   "file_extension": ".py",
   "mimetype": "text/x-python",
   "name": "python",
   "nbconvert_exporter": "python",
   "pygments_lexer": "ipython3",
   "version": "3.11.7"
  }
 },
 "nbformat": 4,
 "nbformat_minor": 5
}
