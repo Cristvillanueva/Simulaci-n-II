{
 "cells": [
  {
   "cell_type": "markdown",
   "metadata": {
    "colab_type": "text",
    "id": "view-in-github"
   },
   "source": [
    "<a href=\"https://colab.research.google.com/github/Cristvillanueva/Simulaci-n-II/blob/main/Prueba_de_Bondad_Xi_Cuadr_notebook.ipynb\" target=\"_parent\"><img src=\"https://colab.research.google.com/assets/colab-badge.svg\" alt=\"Open In Colab\"/></a>"
   ]
  },
  {
   "cell_type": "markdown",
   "metadata": {
    "id": "JlZpIZKLBHRp"
   },
   "source": [
    "# **Villanueva Mendoza Cristian Arturo**"
   ]
  },
  {
   "cell_type": "markdown",
   "metadata": {
    "id": "c3EC9QL4i9ab"
   },
   "source": [
    "# Prueba de Bondad de $X_n^2$ general"
   ]
  },
  {
   "cell_type": "markdown",
   "metadata": {
    "id": "NRDBd2AiCEDm"
   },
   "source": [
    "Primero importaremos la libreria que nos brindara las tablas de la distribución $X_n^2$"
   ]
  },
  {
   "cell_type": "code",
   "execution_count": 30,
   "metadata": {
    "id": "LtU34O-eB5Lx"
   },
   "outputs": [],
   "source": [
    "from scipy.stats import chi2\n",
    "import math\n",
    "import random"
   ]
  },
  {
   "cell_type": "markdown",
   "metadata": {
    "id": "mSsXuQAECZe1"
   },
   "source": [
    "Le pediremos al usuario que introduzca el nivel de confianza de la prueba que desea utilizar."
   ]
  },
  {
   "cell_type": "code",
   "execution_count": 31,
   "metadata": {
    "colab": {
     "base_uri": "https://localhost:8080/"
    },
    "id": "jdZ8kvdtCA3k",
    "outputId": "470b26f4-a1e4-4fb0-aa0c-262a26171c64"
   },
   "outputs": [
    {
     "name": "stdin",
     "output_type": "stream",
     "text": [
      "Introduce la confianza de la prueba en porcentaje: 95\n"
     ]
    }
   ],
   "source": [
    "confi = int(input(\"Introduce la confianza de la prueba en porcentaje:\")) #Confianza\n",
    "#de la prueba."
   ]
  },
  {
   "cell_type": "markdown",
   "metadata": {
    "id": "TeSQeifGDAC-"
   },
   "source": [
    "Reservamos una variable que $xic$ que sea nuestro estadistico para evaluar la prueba."
   ]
  },
  {
   "cell_type": "code",
   "execution_count": 32,
   "metadata": {
    "id": "O1dwWM49CBDX"
   },
   "outputs": [],
   "source": [
    "xic = 0.0 #Reservamos la variable xic que sea nuestro estadistico que aplicaremos la prueba."
   ]
  },
  {
   "cell_type": "markdown",
   "metadata": {
    "id": "eY1HRW5EDrq5"
   },
   "source": [
    "# **Continuación en un arreglo que contiene la lista de números generador para la prueba de bondad.**"
   ]
  },
  {
   "cell_type": "code",
   "execution_count": 33,
   "metadata": {
    "id": "tWW0QIevCBIj"
   },
   "outputs": [
    {
     "name": "stdin",
     "output_type": "stream",
     "text": [
      "Introduce la cantidad de números aleatorios: 100\n"
     ]
    }
   ],
   "source": [
    "M = int(input(\"Introduce la cantidad de números aleatorios:\")) #Generaremos M cantidad de aleatorios\n",
    "numero_tabla = []  # Inicializa una lista vacía\n",
    "for i in range(M):\n",
    "    numero_tabla.append(random.uniform(0,1))  # Agrega números aleatorios a la lista\n",
    "#print(numero_tabla)"
   ]
  },
  {
   "cell_type": "markdown",
   "metadata": {
    "id": "tWW0QIevCBIj"
   },
   "source": [
    "\n",
    "\n",
    "\n",
    "\n",
    "\n",
    "\n"
   ]
  },
  {
   "cell_type": "markdown",
   "metadata": {
    "id": "tWW0QIevCBIj"
   },
   "source": [
    "\n",
    "\n",
    "\n",
    "\n",
    "\n",
    "\n",
    "\n",
    "# **Ejemplo por si gusta meter una lista de números especifica a la cual se le realizara para la prueba de bondad.**"
   ]
  },
  {
   "cell_type": "code",
   "execution_count": 34,
   "metadata": {
    "id": "tWW0QIevCBIj"
   },
   "outputs": [],
   "source": [
    "#numero_tabla = [38, 33, 25, 5, 69, 35, 98, 52, 12, 79,\n",
    "                #50, 46, 95, 42, 49, 11, 78, 34, 2, 43,\n",
    "                #7, 50, 5, 91, 77, 18, 21, 4, 17, 62,\n",
    "                #91, 36, 48, 88, 52, 76, 99, 73, 82, 90]"
   ]
  },
  {
   "cell_type": "markdown",
   "metadata": {
    "id": "b_tL1AWhEQ4m"
   },
   "source": [
    "La condición a continuación verifica si el número mas grande del arreglo esta en 0 y 1, si esto ocurre, no modificara la tabla. En otro caso, vera cuantos digitos enteros tiene el max del arreglo, dividira cada uno de los elementos del arreglo entre $10^{numero de digitos del max}$, esto con el objetivo de que cada elemento del arreglo se encuentre entre 0 y 1.\n"
   ]
  },
  {
   "cell_type": "code",
   "execution_count": 35,
   "metadata": {
    "id": "PIYJgsc7CBLi"
   },
   "outputs": [],
   "source": [
    "if 0 < max(numero_tabla) < 1:\n",
    "    numero_tabla_decimal = numero_tabla\n",
    "else:\n",
    "    cantidad_digitos = len(str(int(max(numero_tabla)))) #Determina la cantidad de digitos que tienen lo numeros\n",
    "    #--de la tabla\n",
    "    numero_tabla_decimal = [x / (10**cantidad_digitos) for x in numero_tabla] #Pasar a decimales nuestra lista."
   ]
  },
  {
   "cell_type": "markdown",
   "metadata": {
    "id": "wrPaXLVGFePo"
   },
   "source": [
    "Calculamos el número de datos que tiene el arreglo"
   ]
  },
  {
   "cell_type": "code",
   "execution_count": 36,
   "metadata": {
    "id": "rFjVRza0CBOV"
   },
   "outputs": [],
   "source": [
    "t = len(numero_tabla) #Número de datos totales"
   ]
  },
  {
   "cell_type": "markdown",
   "metadata": {
    "id": "TRP91vF4FwSi"
   },
   "source": [
    "Calculamos el número de clases como $\\sqrt{t}$ y tomaremos el entero de esto."
   ]
  },
  {
   "cell_type": "code",
   "execution_count": 37,
   "metadata": {
    "id": "-962_d1MCBRD"
   },
   "outputs": [],
   "source": [
    "clase = int(round(math.sqrt(t))) #Redondea a la raíz del Total de datos\n",
    "#--int cambia el valor de decimal a entero."
   ]
  },
  {
   "cell_type": "markdown",
   "metadata": {
    "id": "uIveqzWgGb5_"
   },
   "source": [
    "Calculamos el número esperado en la clase."
   ]
  },
  {
   "cell_type": "code",
   "execution_count": 38,
   "metadata": {
    "id": "JACoB0QZCBTz"
   },
   "outputs": [],
   "source": [
    "E = t/clase #Se requiere en la formula los Ei"
   ]
  },
  {
   "cell_type": "markdown",
   "metadata": {
    "id": "4yhZTNq2GonG"
   },
   "source": [
    "Dividiremos la densidad Uniforme en el intervalo $(0,1)$ entre el total de clases, esto nos permitira construir intervalos."
   ]
  },
  {
   "cell_type": "code",
   "execution_count": 39,
   "metadata": {
    "id": "vzh6urUcG5rc"
   },
   "outputs": [],
   "source": [
    "division_uniforme = 1/clase #Dividira la densidad uniforme entre el total de clases\n",
    "#--esto nos permitira realizar intervalos."
   ]
  },
  {
   "cell_type": "markdown",
   "metadata": {
    "id": "QOKdwEviG62P"
   },
   "source": [
    "El siguiente ciclo verificara si cada uno de los elementos del arreglo cae en alguno de los intervalos construidos, si es asi habra un ocntador que sumara 1 cada vez que suceda. Posterior a haber terminado uno de los intervalos y ya no haya elementos en el arreglo que caigan en el mismo. Utilizaremos la formula siguiente:\n",
    "\\begin{equation*}\n",
    "\\begin{aligned}\n",
    "X_c^2 &= ∑_{i=1}^{n} \\frac{(O_i-E_i)^2}{E_i} \\\\\n",
    "X_c^2 & = \\frac{∑_{i=1}^{n}(O_i-E_i)^2 }{E_i}\n",
    "\\end{aligned}\n",
    "\\end{equation*}"
   ]
  },
  {
   "cell_type": "markdown",
   "metadata": {
    "id": "ntFlARRxI2bV"
   },
   "source": [
    "El valor de $O_i$ es el número observado en la clase, es decir, son la cantidad de número del arrelgo que cayeron en la clase $i$.\n",
    "Lo que hace $xic = xic + (contador-E)^2$ es realizar la sumatoria de númerador de la fracción anterior."
   ]
  },
  {
   "cell_type": "code",
   "execution_count": 40,
   "metadata": {
    "id": "TpNHrCzmG7QU"
   },
   "outputs": [],
   "source": [
    "for i in range(clase):\n",
    "    contador = 0\n",
    "    for j in range(t):\n",
    "        if (division_uniforme*i)<=numero_tabla_decimal[j]<(division_uniforme*(i+1)):\n",
    "            contador +=1\n",
    "    xic = xic + (contador-E)**2\n",
    "    #print(contador)"
   ]
  },
  {
   "cell_type": "markdown",
   "metadata": {
    "id": "4DkVFWo3JlX2"
   },
   "source": [
    "Divide todo entre $E_i$ para obtener $X_c^2$ y lo imprimimos"
   ]
  },
  {
   "cell_type": "code",
   "execution_count": 41,
   "metadata": {
    "colab": {
     "base_uri": "https://localhost:8080/"
    },
    "id": "QIyUR3JMG7Tt",
    "outputId": "1e90662d-134f-47f4-b20c-4fed267a1ca5"
   },
   "outputs": [
    {
     "name": "stdout",
     "output_type": "stream",
     "text": [
      "El valor del estimador es:  7.8\n"
     ]
    }
   ],
   "source": [
    "xic = xic/E\n",
    "print(\"El valor del estimador es: \",xic)"
   ]
  },
  {
   "cell_type": "markdown",
   "metadata": {
    "id": "S1UYBYRJKCNr"
   },
   "source": [
    "Anteriormente le pedimos al usuario el nivel de confianza de la prueba, sin embargo, requerimos el nivel de significancia $(\\alpha)$.\n",
    "Es decir, necesitamos la probabilidad de cometer un error de tipo I que es rechazar $H_0:Verdadera$. Esto se determina como:\n",
    "\\begin{equation*}\n",
    "\\alpha = 1- \\text{confianza}\n",
    "\\end{equation*}\n",
    "Además, requerimos los grados de libertad que seran:\n",
    "\\begin{equation*}\n",
    "\\text{grados de ibertad} = clase -1\n",
    "\\end{equation*}"
   ]
  },
  {
   "cell_type": "code",
   "execution_count": 42,
   "metadata": {
    "id": "8vO7N37JG7Z2"
   },
   "outputs": [],
   "source": [
    "# Nivel de significancia (alpha)\n",
    "alpha = 1- (confi/100) #Calcula la probabilidad de cometer error tipo I.\n",
    "grados_de_libertad = clase-1  # Grados de libertad"
   ]
  },
  {
   "cell_type": "markdown",
   "metadata": {
    "id": "AGjT9wujKy3J"
   },
   "source": [
    "Pedimos el valor critico usando la libreria antes mencionada, ademas de la función $chi2.ppf(\\text{confianza, grados de libertad})$.\n",
    "Tambien lo imprimimos."
   ]
  },
  {
   "cell_type": "code",
   "execution_count": 43,
   "metadata": {
    "colab": {
     "base_uri": "https://localhost:8080/"
    },
    "id": "gAkcDatlG7c4",
    "outputId": "7a1be77b-f477-43bb-d832-6c06b5b6f9dc"
   },
   "outputs": [
    {
     "name": "stdout",
     "output_type": "stream",
     "text": [
      "El valor critico es:  16.918977604620448\n"
     ]
    }
   ],
   "source": [
    "# Calcular el valor crítico\n",
    "valor_critico = chi2.ppf(1 - alpha, grados_de_libertad)\n",
    "print(\"El valor critico es: \",valor_critico)"
   ]
  },
  {
   "cell_type": "markdown",
   "metadata": {
    "id": "nVQPLD0ELX-p"
   },
   "source": [
    "Si $X_c^2 \\leq X^2$ con $n-1$ grados de libertad y a un nivel de confianza $1-\\alpha$. Entonces, no se puede rechazar $H_0$, es decir, NO HAY DIFERENCIA ENTRE LA DISTRIBUCIÓN $U(0,1)$ de la muestra y la teorica."
   ]
  },
  {
   "cell_type": "code",
   "execution_count": 44,
   "metadata": {
    "colab": {
     "base_uri": "https://localhost:8080/"
    },
    "id": "xXhgZnUvG7fV",
    "outputId": "b27759fb-50bf-422a-cb96-f1d4098f5a98"
   },
   "outputs": [
    {
     "name": "stdout",
     "output_type": "stream",
     "text": [
      "\n",
      "No se rechaza H_0, es decir, no hay diferencia entre la distribucion de la muestra y la distribucion teoria de U(0,1). Con un 9 grados de libertad y  0.95 nivel de confianza.\n"
     ]
    }
   ],
   "source": [
    "if xic <= valor_critico:\n",
    "    print(\"\\nNo se rechaza H_0, es decir, no hay diferencia entre la distribucion de la muestra y la distribucion teoria de U(0,1). Con un\", grados_de_libertad, \"grados de libertad y \", 1-alpha, \"nivel de confianza.\")"
   ]
  }
 ],
 "metadata": {
  "colab": {
   "authorship_tag": "ABX9TyP76Ywhgh5ro6KF7HNUxzwW",
   "include_colab_link": true,
   "provenance": []
  },
  "kernelspec": {
   "display_name": "Python 3 (ipykernel)",
   "language": "python",
   "name": "python3"
  },
  "language_info": {
   "codemirror_mode": {
    "name": "ipython",
    "version": 3
   },
   "file_extension": ".py",
   "mimetype": "text/x-python",
   "name": "python",
   "nbconvert_exporter": "python",
   "pygments_lexer": "ipython3",
   "version": "3.11.7"
  }
 },
 "nbformat": 4,
 "nbformat_minor": 4
}
