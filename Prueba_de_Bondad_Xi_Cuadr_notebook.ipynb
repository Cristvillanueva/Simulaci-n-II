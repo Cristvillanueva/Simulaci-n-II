{
  "nbformat": 4,
  "nbformat_minor": 0,
  "metadata": {
    "colab": {
      "provenance": [],
      "authorship_tag": "ABX9TyP76Ywhgh5ro6KF7HNUxzwW",
      "include_colab_link": true
    },
    "kernelspec": {
      "name": "python3",
      "display_name": "Python 3"
    },
    "language_info": {
      "name": "python"
    }
  },
  "cells": [
    {
      "cell_type": "markdown",
      "metadata": {
        "id": "view-in-github",
        "colab_type": "text"
      },
      "source": [
        "<a href=\"https://colab.research.google.com/github/Cristvillanueva/Simulaci-n-II/blob/main/Prueba_de_Bondad_Xi_Cuadr_notebook.ipynb\" target=\"_parent\"><img src=\"https://colab.research.google.com/assets/colab-badge.svg\" alt=\"Open In Colab\"/></a>"
      ]
    },
    {
      "cell_type": "markdown",
      "source": [
        "# **Villanueva Mendoza Cristian Arturo**"
      ],
      "metadata": {
        "id": "JlZpIZKLBHRp"
      }
    },
    {
      "cell_type": "markdown",
      "source": [
        "# Prueba de Bondad de $X_n^2$"
      ],
      "metadata": {
        "id": "c3EC9QL4i9ab"
      }
    },
    {
      "cell_type": "markdown",
      "source": [
        "Primero importaremos la libreria que nos brindara las tablas de la distribución $X_n^2$"
      ],
      "metadata": {
        "id": "NRDBd2AiCEDm"
      }
    },
    {
      "cell_type": "code",
      "source": [
        "from scipy.stats import chi2\n",
        "import math"
      ],
      "metadata": {
        "id": "LtU34O-eB5Lx"
      },
      "execution_count": 1,
      "outputs": []
    },
    {
      "cell_type": "markdown",
      "source": [
        "Le pediremos al usuario que introduzca el nivel de confianza de la prueba que desea utilizar."
      ],
      "metadata": {
        "id": "mSsXuQAECZe1"
      }
    },
    {
      "cell_type": "code",
      "source": [
        "confi = int(input(\"Introduce la confianza de la prueba en porcentaje:\")) #Confianza\n",
        "#de la prueba."
      ],
      "metadata": {
        "colab": {
          "base_uri": "https://localhost:8080/"
        },
        "id": "jdZ8kvdtCA3k",
        "outputId": "470b26f4-a1e4-4fb0-aa0c-262a26171c64"
      },
      "execution_count": 2,
      "outputs": [
        {
          "name": "stdout",
          "output_type": "stream",
          "text": [
            "Introduce la confianza de la prueba en porcentaje:95\n"
          ]
        }
      ]
    },
    {
      "cell_type": "markdown",
      "source": [
        "Reservamos una variable que $xic$ que sea nuestro estadistico para evaluar la prueba."
      ],
      "metadata": {
        "id": "TeSQeifGDAC-"
      }
    },
    {
      "cell_type": "code",
      "source": [
        "xic = 0.0 #Reservamos la variable xic que sea nuestro estadistico que aplicaremos la prueba."
      ],
      "metadata": {
        "id": "O1dwWM49CBDX"
      },
      "execution_count": 3,
      "outputs": []
    },
    {
      "cell_type": "markdown",
      "source": [
        "\n",
        "."
      ],
      "metadata": {
        "id": "kiHOkjFVFhim"
      }
    },
    {
      "cell_type": "markdown",
      "source": [
        "# **Ejercicio 3**\n",
        "Para este ejercicio colocaremos a continuación en un arreglo que contiene la lista de numeros proporcionados para la prueba de bondad."
      ],
      "metadata": {
        "id": "eY1HRW5EDrq5"
      }
    },
    {
      "cell_type": "code",
      "source": [
        "numero_tabla = [38, 33, 25, 5, 69, 35, 98, 52, 12, 79,\n",
        "                50, 46, 95, 42, 49, 11, 78, 34, 2, 43,\n",
        "                7, 50, 5, 91, 77, 18, 21, 4, 17, 62,\n",
        "                91, 36, 48, 88, 52, 76, 99, 73, 82, 90]"
      ],
      "metadata": {
        "id": "tWW0QIevCBIj"
      },
      "execution_count": 4,
      "outputs": []
    },
    {
      "cell_type": "markdown",
      "source": [
        "La condición a continuación verifica si el número mas grande del arreglo esta en 0 y 1, si esto ocurre, no modificara la tabla. En otro caso, vera cuantos digitos enteros tiene el max del arreglo, dividira cada uno de los elementos del arreglo entre $10^{numero de digitos del max}$, esto con el objetivo de que cada elemento del arreglo se encuentre entre 0 y 1.\n"
      ],
      "metadata": {
        "id": "b_tL1AWhEQ4m"
      }
    },
    {
      "cell_type": "code",
      "source": [
        "if 0 < max(numero_tabla) < 1:\n",
        "    numero_tabla_decimal = numero_tabla\n",
        "else:\n",
        "    cantidad_digitos = len(str(int(max(numero_tabla)))) #Determina la cantidad de digitos que tienen lo numeros\n",
        "    #--de la tabla\n",
        "    numero_tabla_decimal = [x / (10**cantidad_digitos) for x in numero_tabla] #Pasar a decimales nuestra lista."
      ],
      "metadata": {
        "id": "PIYJgsc7CBLi"
      },
      "execution_count": 5,
      "outputs": []
    },
    {
      "cell_type": "markdown",
      "source": [
        "Calculamos el número de datos que tiene el arreglo"
      ],
      "metadata": {
        "id": "wrPaXLVGFePo"
      }
    },
    {
      "cell_type": "code",
      "source": [
        "t = len(numero_tabla) #Número de datos totales"
      ],
      "metadata": {
        "id": "rFjVRza0CBOV"
      },
      "execution_count": 6,
      "outputs": []
    },
    {
      "cell_type": "markdown",
      "source": [
        "Calculamos el número de clases como $\\sqrt{t}$ y tomaremos el entero de esto."
      ],
      "metadata": {
        "id": "TRP91vF4FwSi"
      }
    },
    {
      "cell_type": "code",
      "source": [
        "clase = int(round(math.sqrt(t))) #Redondea a la raíz del Total de datos\n",
        "#--int cambia el valor de decimal a entero."
      ],
      "metadata": {
        "id": "-962_d1MCBRD"
      },
      "execution_count": 7,
      "outputs": []
    },
    {
      "cell_type": "markdown",
      "source": [
        "Calculamos el número esperado en la clase."
      ],
      "metadata": {
        "id": "uIveqzWgGb5_"
      }
    },
    {
      "cell_type": "code",
      "source": [
        "E = t/clase #Se requiere en la formula los Ei"
      ],
      "metadata": {
        "id": "JACoB0QZCBTz"
      },
      "execution_count": 8,
      "outputs": []
    },
    {
      "cell_type": "markdown",
      "source": [
        "Dividiremos la densidad Uniforme en el intervalo $(0,1)$ entre el total de clases, esto nos permitira construir intervalos."
      ],
      "metadata": {
        "id": "4yhZTNq2GonG"
      }
    },
    {
      "cell_type": "code",
      "source": [
        "division_uniforme = 1/clase #Dividira la densidad uniforme entre el total de clases\n",
        "#--esto nos permitira realizar intervalos."
      ],
      "metadata": {
        "id": "vzh6urUcG5rc"
      },
      "execution_count": 9,
      "outputs": []
    },
    {
      "cell_type": "markdown",
      "source": [
        "El siguiente ciclo verificara si cada uno de los elementos del arreglo cae en alguno de los intervalos construidos, si es asi habra un ocntador que sumara 1 cada vez que suceda. Posterior a haber terminado uno de los intervalos y ya no haya elementos en el arreglo que caigan en el mismo. Utilizaremos la formula siguiente:\n",
        "\\begin{equation*}\n",
        "\\begin{aligned}\n",
        "X_c^2 &= ∑_{i=1}^{n} \\frac{(O_i-E_i)^2}{E_i} \\\\\n",
        "X_c^2 & = \\frac{∑_{i=1}^{n}(O_i-E_i)^2 }{E_i}\n",
        "\\end{aligned}\n",
        "\\end{equation*}"
      ],
      "metadata": {
        "id": "QOKdwEviG62P"
      }
    },
    {
      "cell_type": "markdown",
      "source": [
        "El valor de $O_i$ es el número observado en la clase, es decir, son la cantidad de número del arrelgo que cayeron en la clase $i$.\n",
        "Lo que hace $xic = xic + (contador-E)^2$ es realizar la sumatoria de númerador de la fracción anterior."
      ],
      "metadata": {
        "id": "ntFlARRxI2bV"
      }
    },
    {
      "cell_type": "code",
      "source": [
        "for i in range(clase):\n",
        "    contador = 0\n",
        "    for j in range(t):\n",
        "        if (division_uniforme*i)<=numero_tabla_decimal[j]<(division_uniforme*(i+1)):\n",
        "            contador +=1\n",
        "    xic = xic + (contador-E)**2\n",
        "    #print(contador)"
      ],
      "metadata": {
        "id": "TpNHrCzmG7QU"
      },
      "execution_count": 10,
      "outputs": []
    },
    {
      "cell_type": "markdown",
      "source": [
        "Divide todo entre $E_i$ para obtener $X_c^2$ y lo imprimimos"
      ],
      "metadata": {
        "id": "4DkVFWo3JlX2"
      }
    },
    {
      "cell_type": "code",
      "source": [
        "xic = xic/E\n",
        "print(\"El valor del estimador es: \",xic)"
      ],
      "metadata": {
        "colab": {
          "base_uri": "https://localhost:8080/"
        },
        "id": "QIyUR3JMG7Tt",
        "outputId": "1e90662d-134f-47f4-b20c-4fed267a1ca5"
      },
      "execution_count": 11,
      "outputs": [
        {
          "output_type": "stream",
          "name": "stdout",
          "text": [
            "El valor del estimador es:  1.6999999999999997\n"
          ]
        }
      ]
    },
    {
      "cell_type": "markdown",
      "source": [
        "Anteriormente le pedimos al usuario el nivel de confianza de la prueba, sin embargo, requerimos el nivel de significancia $(\\alpha)$.\n",
        "Es decir, necesitamos la probabilidad de cometer un error de tipo I que es rechazar $H_0:Verdadera$. Esto se determina como:\n",
        "\\begin{equation*}\n",
        "\\alpha = 1- \\text{confianza}\n",
        "\\end{equation*}\n",
        "Además, requerimos los grados de libertad que seran:\n",
        "\\begin{equation*}\n",
        "\\text{grados de ibertad} = clase -1\n",
        "\\end{equation*}"
      ],
      "metadata": {
        "id": "S1UYBYRJKCNr"
      }
    },
    {
      "cell_type": "code",
      "source": [
        "# Nivel de significancia (alpha)\n",
        "alpha = 1- (confi/100) #Calcula la probabilidad de cometer error tipo I.\n",
        "grados_de_libertad = clase-1  # Grados de libertad"
      ],
      "metadata": {
        "id": "8vO7N37JG7Z2"
      },
      "execution_count": 12,
      "outputs": []
    },
    {
      "cell_type": "markdown",
      "source": [
        "Pedimos el valor critico usando la libreria antes mencionada, ademas de la función $chi2.ppf(\\text{confianza, grados de libertad})$.\n",
        "Tambien lo imprimimos."
      ],
      "metadata": {
        "id": "AGjT9wujKy3J"
      }
    },
    {
      "cell_type": "code",
      "source": [
        "# Calcular el valor crítico\n",
        "valor_critico = chi2.ppf(1 - alpha, grados_de_libertad)\n",
        "print(\"El valor critico es: \",valor_critico)"
      ],
      "metadata": {
        "colab": {
          "base_uri": "https://localhost:8080/"
        },
        "id": "gAkcDatlG7c4",
        "outputId": "7a1be77b-f477-43bb-d832-6c06b5b6f9dc"
      },
      "execution_count": 13,
      "outputs": [
        {
          "output_type": "stream",
          "name": "stdout",
          "text": [
            "El valor critico es:  11.070497693516351\n"
          ]
        }
      ]
    },
    {
      "cell_type": "markdown",
      "source": [
        "Si $X_c^2 \\leq X^2$ con $n-1$ grados de libertad y a un nivel de confianza $1-\\alpha$. Entonces, no se puede rechazar $H_0$, es decir, NO HAY DIFERENCIA ENTRE LA DISTRIBUCIÓN $U(0,1)$ de la muestra y la teorica."
      ],
      "metadata": {
        "id": "nVQPLD0ELX-p"
      }
    },
    {
      "cell_type": "code",
      "source": [
        "if xic <= valor_critico:\n",
        "    print(\"\\nNo se rechaza H_0, es decir, no hay diferencia entre la distribucion de la muestra y la distribucion teoria de U(0,1). Con un\", grados_de_libertad, \"grados de libertad y \", 1-alpha, \"nivel de confianza.\")"
      ],
      "metadata": {
        "colab": {
          "base_uri": "https://localhost:8080/"
        },
        "id": "xXhgZnUvG7fV",
        "outputId": "b27759fb-50bf-422a-cb96-f1d4098f5a98"
      },
      "execution_count": 14,
      "outputs": [
        {
          "output_type": "stream",
          "name": "stdout",
          "text": [
            "\n",
            "No se rechaza H_0, es decir, no hay diferencia entre la distribucion de la muestra y la distribucion teoria de U(0,1). Con un 5 grados de libertad y  0.95 nivel de confianza.\n"
          ]
        }
      ]
    },
    {
      "cell_type": "markdown",
      "source": [
        ".\n",
        ".\n",
        ".\n"
      ],
      "metadata": {
        "id": "YROVAyhGL3Dg"
      }
    },
    {
      "cell_type": "markdown",
      "source": [
        "# **Ejercicio 4**\n",
        "Se realiza lo mismo del ejercicio 3, la pecurialidad de este ejercicio es que los valores del arreglo no se encuentran entre 0 y 1."
      ],
      "metadata": {
        "id": "FSZ7XAb4L6Gb"
      }
    },
    {
      "cell_type": "code",
      "source": [
        "numero_tabla = [0.8797, 0.3884, 0.6289, 0.8750, 0.5999, 0.8589, 0.9996, 0.2415, 0.3808, 0.9606,\n",
        "              0.9848, 0.3469, 0.7977, 0.5844, 0.8147, 0.6431, 0.7387, 0.5613, 0.0318, 0.7401,\n",
        "              0.4557, 0.1592, 0.8536, 0.8846, 0.3410, 0.1492, 0.8681, 0.5291, 0.3188, 0.5992,\n",
        "              0.9170, 0.2204, 0.5991, 0.5461, 0.5739, 0.3254, 0.0856, 0.2258, 0.4603, 0.5027,\n",
        "              0.8376, 0.6235, 0.3681, 0.2088, 0.1525, 0.2006, 0.4720, 0.4272, 0.6360, 0.0954]"
      ],
      "metadata": {
        "id": "0VBkNtLFG7h6"
      },
      "execution_count": 15,
      "outputs": []
    },
    {
      "cell_type": "markdown",
      "source": [
        "La condición a continuación verifica si el número mas grande del arreglo esta en 0 y 1, si esto ocurre, no modificara la tabla. En otro caso, vera cuantos digitos enteros tiene el max del arreglo, dividira cada uno de los elementos del arreglo entre $10^{numero de digitos del max}$, esto con el objetivo de que cada elemento del arreglo se encuentre entre 0 y 1.\n"
      ],
      "metadata": {
        "id": "geiVI4BVMlN2"
      }
    },
    {
      "cell_type": "code",
      "source": [
        "if 0 < max(numero_tabla) < 1:\n",
        "    numero_tabla_decimal = numero_tabla\n",
        "else:\n",
        "    cantidad_digitos = len(str(int(max(numero_tabla)))) #Determina la cantidad de digitos que tienen lo numeros\n",
        "    #--de la tabla\n",
        "    numero_tabla_decimal = [x / (10**cantidad_digitos) for x in numero_tabla] #Pasar a decimales nuestra lista."
      ],
      "metadata": {
        "id": "M58t1TPsMq6V"
      },
      "execution_count": 16,
      "outputs": []
    },
    {
      "cell_type": "markdown",
      "source": [
        "Calculamos el número de datos que tiene el arreglo"
      ],
      "metadata": {
        "id": "Uk0Nf0d2MvnY"
      }
    },
    {
      "cell_type": "code",
      "source": [
        "t = len(numero_tabla) #Número de datos totales"
      ],
      "metadata": {
        "id": "Q-LezSQ2M2sH"
      },
      "execution_count": 17,
      "outputs": []
    },
    {
      "cell_type": "markdown",
      "source": [
        "Calculamos el número de clases como $\\sqrt{t}$ y tomaremos el entero de esto."
      ],
      "metadata": {
        "id": "40WqCh9rM7LI"
      }
    },
    {
      "cell_type": "code",
      "source": [
        "clase = int(round(math.sqrt(t))) #Redondea a la raíz del Total de datos\n",
        "#--int cambia el valor de decimal a entero."
      ],
      "metadata": {
        "id": "mKkFpVZoM-FQ"
      },
      "execution_count": 18,
      "outputs": []
    },
    {
      "cell_type": "markdown",
      "source": [
        "Calculamos el número esperado en la clase."
      ],
      "metadata": {
        "id": "loYxnoGvNBxs"
      }
    },
    {
      "cell_type": "code",
      "source": [
        "E = t/clase #Se requiere en la formula los Ei"
      ],
      "metadata": {
        "id": "fn_8OwYzNHpd"
      },
      "execution_count": 19,
      "outputs": []
    },
    {
      "cell_type": "markdown",
      "source": [
        "Dividiremos la densidad Uniforme en el intervalo $(0,1)$ entre el total de clases, esto nos permitira construir intervalos."
      ],
      "metadata": {
        "id": "FI72H4VfNLFG"
      }
    },
    {
      "cell_type": "code",
      "source": [
        "division_uniforme = 1/clase #Dividira la densidad uniforme entre el total de clases\n",
        "#--esto nos permitira realizar intervalos."
      ],
      "metadata": {
        "id": "TVeKp1QINOPI"
      },
      "execution_count": 20,
      "outputs": []
    },
    {
      "cell_type": "markdown",
      "source": [
        "El siguiente ciclo verificara si cada uno de los elementos del arreglo cae en alguno de los intervalos construidos, si es asi habra un ocntador que sumara 1 cada vez que suceda. Posterior a haber terminado uno de los intervalos y ya no haya elementos en el arreglo que caigan en el mismo. Utilizaremos la formula siguiente:\n",
        "\\begin{equation*}\n",
        "\\begin{aligned}\n",
        "X_c^2 &= ∑_{i=1}^{n} \\frac{(O_i-E_i)^2}{E_i} \\\\\n",
        "X_c^2 & = \\frac{∑_{i=1}^{n}(O_i-E_i)^2 }{E_i}\n",
        "\\end{aligned}\n",
        "\\end{equation*}"
      ],
      "metadata": {
        "id": "vO7kmsaANRD-"
      }
    },
    {
      "cell_type": "markdown",
      "source": [
        "El valor de $O_i$ es el número observado en la clase, es decir, son la cantidad de número del arrelgo que cayeron en la clase $i$.\n",
        "Lo que hace $xic = xic + (contador-E)^2$ es realizar la sumatoria de númerador de la fracción anterior."
      ],
      "metadata": {
        "id": "VHdJJ-1fNT52"
      }
    },
    {
      "cell_type": "code",
      "source": [
        "for i in range(clase):\n",
        "    contador = 0\n",
        "    for j in range(t):\n",
        "        if (division_uniforme*i)<=numero_tabla_decimal[j]<(division_uniforme*(i+1)):\n",
        "            contador +=1\n",
        "    xic = xic + (contador-E)**2\n",
        "    #print(contador)"
      ],
      "metadata": {
        "id": "cvwnTEtnNWtA"
      },
      "execution_count": 21,
      "outputs": []
    },
    {
      "cell_type": "markdown",
      "source": [
        "Divide todo entre $E_i$ para obtener $X_c^2$ y lo imprimimos"
      ],
      "metadata": {
        "id": "-g9_gJIkNxmq"
      }
    },
    {
      "cell_type": "code",
      "source": [
        "xic = xic/E\n",
        "print(\"El valor del estimador es: \",xic)"
      ],
      "metadata": {
        "colab": {
          "base_uri": "https://localhost:8080/"
        },
        "outputId": "9eeacffe-89e4-4ec2-daeb-80075daa775e",
        "id": "HuJr5u8hN4H4"
      },
      "execution_count": 22,
      "outputs": [
        {
          "output_type": "stream",
          "name": "stdout",
          "text": [
            "El valor del estimador es:  3.9979999999999993\n"
          ]
        }
      ]
    },
    {
      "cell_type": "markdown",
      "source": [
        "Anteriormente le pedimos al usuario el nivel de confianza de la prueba, sin embargo, requerimos el nivel de significancia $(\\alpha)$.\n",
        "Es decir, necesitamos la probabilidad de cometer un error de tipo I que es rechazar $H_0:Verdadera$. Esto se determina como:\n",
        "\\begin{equation*}\n",
        "\\alpha = 1- \\text{confianza}\n",
        "\\end{equation*}\n",
        "Además, requerimos los grados de libertad que seran:\n",
        "\\begin{equation*}\n",
        "\\text{grados de ibertad} = clase -1\n",
        "\\end{equation*}"
      ],
      "metadata": {
        "id": "WLaHOKVvN9NT"
      }
    },
    {
      "cell_type": "code",
      "source": [
        "# Nivel de significancia (alpha)\n",
        "alpha = 1- (confi/100) #Calcula la probabilidad de cometer error tipo I.\n",
        "grados_de_libertad = clase-1  # Grados de libertad"
      ],
      "metadata": {
        "id": "J6go-8ecOBLr"
      },
      "execution_count": 23,
      "outputs": []
    },
    {
      "cell_type": "markdown",
      "source": [
        "Pedimos el valor critico usando la libreria antes mencionada, ademas de la función $chi2.ppf(\\text{confianza, grados de libertad})$.\n",
        "Tambien lo imprimimos."
      ],
      "metadata": {
        "id": "_m_nDgqAOEjZ"
      }
    },
    {
      "cell_type": "code",
      "source": [
        "# Calcular el valor crítico\n",
        "valor_critico = chi2.ppf(1 - alpha, grados_de_libertad)\n",
        "print(\"El valor critico es: \",valor_critico)"
      ],
      "metadata": {
        "colab": {
          "base_uri": "https://localhost:8080/"
        },
        "outputId": "1e8f1c86-004b-4486-9972-64858b8d7b06",
        "id": "miPq1BE2OJsB"
      },
      "execution_count": 24,
      "outputs": [
        {
          "output_type": "stream",
          "name": "stdout",
          "text": [
            "El valor critico es:  12.591587243743977\n"
          ]
        }
      ]
    },
    {
      "cell_type": "markdown",
      "source": [
        "Si $X_c^2 \\leq X^2$ con $n-1$ grados de libertad y a un nivel de confianza $1-\\alpha$. Entonces, no se puede rechazar $H_0$, es decir, NO HAY DIFERENCIA ENTRE LA DISTRIBUCIÓN $U(0,1)$ de la muestra y la teorica."
      ],
      "metadata": {
        "id": "btjFFFDXOOmj"
      }
    },
    {
      "cell_type": "code",
      "source": [
        "if xic <= valor_critico:\n",
        "    print(\"\\nNo se rechaza H_0, es decir, no hay diferencia entre la distribucion de la muestra y la distribucion teoria de U(0,1). Con un\", grados_de_libertad, \"grados de libertad y \", 1-alpha, \"nivel de confianza.\")"
      ],
      "metadata": {
        "colab": {
          "base_uri": "https://localhost:8080/"
        },
        "outputId": "f77186db-ee6e-44ee-ce57-295fc58cd530",
        "id": "Ort8q3e3ORln"
      },
      "execution_count": 25,
      "outputs": [
        {
          "output_type": "stream",
          "name": "stdout",
          "text": [
            "\n",
            "No se rechaza H_0, es decir, no hay diferencia entre la distribucion de la muestra y la distribucion teoria de U(0,1). Con un 6 grados de libertad y  0.95 nivel de confianza.\n"
          ]
        }
      ]
    }
  ]
}