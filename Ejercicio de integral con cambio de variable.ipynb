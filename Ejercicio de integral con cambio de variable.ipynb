{
 "cells": [
  {
   "cell_type": "markdown",
   "metadata": {
    "colab_type": "text",
    "id": "view-in-github"
   },
   "source": [
    "<a href=\"https://colab.research.google.com/github/Cristvillanueva/Simulaci-n-II/blob/main/Aproximaci%C3%B3n%20al%20valor%20de%20pi%20con%20metodolog%C3%ADa.ipynb\" target=\"_parent\"><img src=\"https://colab.research.google.com/assets/colab-badge.svg\" alt=\"Open In Colab\"/></a>"
   ]
  },
  {
   "cell_type": "markdown",
   "metadata": {
    "id": "bMhXlRB29w8l"
   },
   "source": [
    "# Aproximación a la integral por medio de Monte Carlo Acierto y Error (Hit or Miss) con METODOLOGÍA\n",
    "\n",
    "\\begin{equation*}\n",
    "\\begin{aligned}\n",
    " I = \\int_0^\\infty x(1+x^2)^{-2} \\quad dx\n",
    "\\end{aligned}\n",
    "\\end{equation*}"
   ]
  },
  {
   "cell_type": "markdown",
   "metadata": {
    "id": "lRP5dLmk952w"
   },
   "source": [
    "**Solución Analitica**\n",
    "Es facil ver que la integral es una integral imporpia, por lo que:\n",
    "\\begin{equation*}\n",
    "\\begin{aligned}\n",
    "I &= \\lim_{b \\to \\infty} \\int_{0}^{b} x(1+x^2)^{-2} \\quad dx \\\\\n",
    "&= \\lim_{b \\to \\infty} \\int_{0}^{b} \\frac{x}{(1+x^2)^2} \\quad dx \\\\\n",
    "\\end{aligned}\n",
    "\\end{equation*}\n",
    "Sea $u=1+x^2$, derivando $\\frac{du}{dx} = 2x$, entonces $du = 2x dx$. \n",
    "\\begin{equation*}\n",
    "\\begin{aligned}\n",
    "&= \\lim_{b \\to \\infty} \\frac{1}{2} \\int_{0}^{b} \\frac{2x}{(1+x^2)^2} \\quad dx \\\\\n",
    "&= \\lim_{b \\to \\infty} \\frac{1}{2} \\int_{0}^{b} \\frac{1}{u^2} \\quad du \\\\\n",
    "&= \\lim_{b \\to \\infty} \\frac{1}{2} \\int_{0}^{b} u^{-2} \\quad du \\\\\n",
    "&= \\lim_{b \\to \\infty} \\frac{1}{2} \\left(\\frac{u^{-2+1}}{-2+1}\\right) \\bigg|_0^b \\\\\n",
    "&= \\lim_{b \\to \\infty} \\frac{1}{2} \\left(\\frac{u^{-1}}{-1}\\right) \\bigg|_0^b \\\\\n",
    "&= \\lim_{b \\to \\infty} -\\frac{1}{2} \\left(\\frac{1}{u}\\right) \\bigg|_0^b \\\\\n",
    "&= \\lim_{b \\to \\infty} -\\frac{1}{2} \\left(\\frac{1}{1+x^2}\\right) \\bigg|_0^b \\\\\n",
    "&= \\lim_{b \\to \\infty} -\\frac{1}{2} \\left(\\frac{1}{1+b^2} - \\frac{1}{1+0^2}\\right)  \\\\\n",
    "&= \\lim_{b \\to \\infty} \\left(\\frac{-1}{2(1+b^2)} + \\frac{1}{2}\\right)  \\\\\n",
    "\\therefore I &= \\frac{1}{2} \\blacksquare\n",
    "\\end{aligned}\n",
    "\\end{equation*}"
   ]
  },
  {
   "cell_type": "markdown",
   "metadata": {
    "id": "lRP5dLmk952w"
   },
   "source": [
    "Al realizar la simulación nos percatamos que la aproximación no era buena, optamos por realizar un cambio de variable para cambiarlo los limites de integración así como la función.\n",
    "Sea $u = \\frac{1}{1+x}$, una propuesta de cambio de variable, entonces:\n",
    "\\begin{equation*}\n",
    "\\begin{aligned}\n",
    "x = 0 & \\rightarrow u = 1 \\\\\n",
    "x = \\infty & \\rightarrow u = 0\n",
    "\\end{aligned}\n",
    "\\end{equation*}\n",
    "Por lo que podemos ver, es una buena propuesta aunque tenemos que modificar un poco para que los limistes de integración nos queden de 0 a 1. Entonces\n",
    "\\begin{equation*}\n",
    "\\begin{aligned}\n",
    "x &= \\frac{1}{u}-1 \\rightarrow x = u^{-1} -1 \\\\\n",
    "\\frac{dx}{du} &= -u^{-2} \\rightarrow dx = -u^{-2}du\n",
    "\\end{aligned}\n",
    "\\end{equation*}\n",
    "Reescribiendo la integral y aplicando el cambio de variable, tenemos:\n",
    "\\begin{equation*}\n",
    "\\begin{aligned}\n",
    " I &= \\int_1^0 \\left(\\frac{1}{u}-1\\right)\\left(1+\\left( \\frac{1}{u}-1 \\right)^2\\right)^{-2} \\quad \\left(-u^{-2}\\right)du \\\\\n",
    "  &= -\\int_1^0 \\left(\\frac{1}{u^{3}}-\\frac{1}{u^2}\\right)\\left(1+\\left( \\frac{1}{u}-1 \\right)^2\\right)^{-2} \\quad du\n",
    "\\end{aligned}\n",
    "\\end{equation*}\n",
    "Utilizando la propiedad de :\n",
    "\\begin{equation*}\n",
    "\\begin{aligned}\n",
    "\\int_a^b f(x) dx = - \\int_b^a f(x)dx \n",
    "\\end{aligned}\n",
    "\\end{equation*}\n",
    "Tenemos:\n",
    "\\begin{equation*}\n",
    "\\begin{aligned}\n",
    " I = \\int_0^\\infty x(1+x^2)^{-2} \\quad dx = \\int_0^1 \\left(\\frac{1}{u^{3}}-\\frac{1}{u^2}\\right)\\left(1+\\left( \\frac{1}{u}-1 \\right)^2\\right)^{-2} \\quad du\n",
    "\\end{aligned}\n",
    "\\end{equation*}"
   ]
  },
  {
   "cell_type": "markdown",
   "metadata": {
    "id": "lRP5dLmk952w"
   },
   "source": []
  },
  {
   "cell_type": "markdown",
   "metadata": {
    "id": "lRP5dLmk952w"
   },
   "source": [
    "**PASO 7**. Obtenga la gráfica de estabilización que indica que el tamaño de muestra utilizado es suficiente para\n",
    "garantizar la convergencia del resultado."
   ]
  },
  {
   "cell_type": "code",
   "execution_count": 109,
   "metadata": {
    "id": "ttuQBsg1-AKJ"
   },
   "outputs": [],
   "source": [
    "import numpy as np\n",
    "import math\n",
    "import random\n",
    "import matplotlib.pyplot as plt"
   ]
  },
  {
   "cell_type": "code",
   "execution_count": 110,
   "metadata": {},
   "outputs": [],
   "source": [
    "def funcion2(u): #Definimos la función a la cual le queremos calcular la integral en cierto intervalo.\n",
    "    return (u**(-3)-u**(-2))*((1+(1/u-1)**2)**(-2))"
   ]
  },
  {
   "cell_type": "code",
   "execution_count": 111,
   "metadata": {
    "id": "c56cwDr0-Et_"
   },
   "outputs": [],
   "source": [
    "def experimentos(n): #Definimos una funcion que realizara \n",
    "  a=0 #limite inferior de la integral\n",
    "  b=1 #limite superior de la integral\n",
    "  c = 1.2 #Funcion que acota por arriba la funcion a integrar.\n",
    "  aciertos = 0 #Contador de la cantidad de veces que se cumple la condicion de monte carlo acierto y error.\n",
    "  area=[] #Guardara las aproximaciones del área bajo la curva de la función.\n",
    "  ensayos=[]\n",
    "  for i in range(1,n+1):\n",
    "      u1=(random.random()) #Generamos un número aleatorio en (0,1)\n",
    "      u2=(random.random()) #Generamos un segundo número aleatorio e independiente en (0,1)\n",
    "      x = (b-a)*u1+a #Utilizamos la tranformada inversa para traslar el U1 en el intervalo (0,1) al intervalo de interes (intervalo en donde se integra)\n",
    "      g_x = funcion2(x) #Evaluamos la función a integrar en el aleatorio X generado anteriormente. \n",
    "      if g_x > c*u2: #Condición de Monte Carlo de Acierto y Error. \n",
    "        aciertos += 1 #Si se cumple la condición anterior, aumenta el contador el 1.\n",
    "      ensayos.append(i)\n",
    "      area.append(c*(b-a)*aciertos/i) #Aproximación al área bajo la curva en la iteración i.\n",
    "  return area #Regresamos una lista de las aproximaciones al área bajo la curva en la iteracion i."
   ]
  },
  {
   "cell_type": "code",
   "execution_count": 112,
   "metadata": {
    "id": "JzrkxNVC-Gr7"
   },
   "outputs": [],
   "source": [
    "exp = experimentos(2000) #Hara el experimento antes descrito 2000 veces, es decir, nos dara 2000 aproximaciones del área bajo la curva de la funcion a integrar."
   ]
  },
  {
   "cell_type": "code",
   "execution_count": 113,
   "metadata": {
    "colab": {
     "base_uri": "https://localhost:8080/",
     "height": 475
    },
    "id": "oSt57jHC-Ke7",
    "outputId": "a2951432-465a-4ef0-a4a1-ad5d6dda3ded"
   },
   "outputs": [
    {
     "data": {
      "image/png": "[encoded data removed]",
      "text/plain": [
       "<Figure size 640x480 with 1 Axes>"
      ]
     },
     "metadata": {},
     "output_type": "display_data"
    }
   ],
   "source": [
    "plt.plot(exp)  #Grafica la lista de aproximaciones de acuerdo a la cantidad de experiemntos realizada.\n",
    "plt.xlabel('iteraciones')\n",
    "plt.ylabel('Valor de Integral de la función')\n",
    "plt.title('Aproximación al área bajo la curva de la función')\n",
    "plt.show()"
   ]
  },
  {
   "cell_type": "markdown",
   "metadata": {
    "id": "8B0GNSys-OHa"
   },
   "source": [
    "**PASO 8**. Replique el modelo."
   ]
  },
  {
   "cell_type": "code",
   "execution_count": 114,
   "metadata": {
    "id": "mDgcWIrz-OmH"
   },
   "outputs": [],
   "source": [
    "def area(repeticiones): #Esta función hara la simulacion anterior muchas veces, es decir, hará \"repeticiones\" cantidad de veces\n",
    "    Area = []\n",
    "    for i in range(repeticiones):\n",
    "        Area.append(np.mean(experimentos(2000))) #Calcula la media de 2000 experiementos unas N (repeticiones) cantidad de veces.\n",
    "    return Area #Nos regresa N (repeticiones) medias de 2000 experiemntos cada una."
   ]
  },
  {
   "cell_type": "code",
   "execution_count": 115,
   "metadata": {
    "id": "82TLY2NB-QvE"
   },
   "outputs": [],
   "source": [
    "N=100\n",
    "simulacion = area(N)"
   ]
  },
  {
   "cell_type": "code",
   "execution_count": 116,
   "metadata": {
    "colab": {
     "base_uri": "https://localhost:8080/",
     "height": 475
    },
    "id": "GkvLstcK-SkZ",
    "outputId": "d3232585-66f9-4542-af78-ed50a646bfea"
   },
   "outputs": [
    {
     "data": {
      "image/png": "[encoded data removed]",
      "text/plain": [
       "<Figure size 640x480 with 1 Axes>"
      ]
     },
     "metadata": {},
     "output_type": "display_data"
    }
   ],
   "source": [
    "plt.hist(simulacion) #Grafica las frecuencias de la aproximación al valor del área bajo al curva de la función de las N simualciones con 2000 experiementos cada una.\n",
    "plt.xlabel('Valor de Integral de la función')\n",
    "plt.ylabel('Frecuencia')\n",
    "plt.title('Histograma del área bajo la curva de la función')\n",
    "plt.show()"
   ]
  },
  {
   "cell_type": "markdown",
   "metadata": {
    "id": "uofRkOir-X9L"
   },
   "source": [
    "**PASO 9**. Calcule la media del valor de $\\pi$ y su desviación\n",
    "estándar."
   ]
  },
  {
   "cell_type": "code",
   "execution_count": 117,
   "metadata": {
    "id": "79UteyqM-aRB"
   },
   "outputs": [],
   "source": [
    "media = np.mean(simulacion) #Calcula la media de esas N simulaciones\n",
    "var = np.var(simulacion) #Calcula la varianza de esas N simulaciones\n",
    "desv = np.std(simulacion) #Calcula la desvaicion de esas N simulaciones"
   ]
  },
  {
   "cell_type": "markdown",
   "metadata": {
    "id": "-z7h9Mdu-b4o"
   },
   "source": [
    "**PASO 10**. Halle el intervalo de confianza del valor de $\\pi$ con un nivel de confianza del $95 \\%$.\n",
    "\\begin{equation*}\n",
    "\\overline{x}- Z_{\\frac{\\alpha}{2}}  \\cdot \\frac{S}{\\sqrt{N}} < \\mu < \\overline{x}+ Z_{\\frac{\\alpha}{2}}  \\cdot \\frac{S}{\\sqrt{N}}\n",
    "\\end{equation*}"
   ]
  },
  {
   "cell_type": "code",
   "execution_count": 118,
   "metadata": {
    "colab": {
     "base_uri": "https://localhost:8080/"
    },
    "id": "m9XG9qtQ-edC",
    "outputId": "891faf4a-ed5f-436c-e725-48687d8f2e2e"
   },
   "outputs": [
    {
     "name": "stdout",
     "output_type": "stream",
     "text": [
      "Entonces:  0.49584586128769503 < μ < 0.5031536676691263\n"
     ]
    }
   ],
   "source": [
    "from scipy.stats import norm #Importamos la libreria para poder obtener el valor de Z.\n",
    "alpha = 1 - 0.95 #Alpha es igual a 1 - la confianza del intervalo\n",
    "z_alpha_2 = norm.ppf(1-alpha / 2) #Mandamos a pedir el valor de Z para \\alpha/2, sabemos que si es el 95% de confienza, Z esta cercano al 1.96.\n",
    "l_inferior = media - z_alpha_2 * (desv / math.sqrt(N)) #Sacamos limite inferior por la formula\n",
    "l_superior = media + z_alpha_2 * (desv / math.sqrt(N)) #Sacamos limite superior por la formula\n",
    "print(\"Entonces: \", l_inferior, \"< \\u03BC <\", l_superior) #El intervalo en donde se encuentra el valor real a una confienza del 95%"
   ]
  }
 ],
 "metadata": {
  "colab": {
   "authorship_tag": "ABX9TyMqQSalVPiljvwlf5lipMKj",
   "include_colab_link": true,
   "provenance": []
  },
  "kernelspec": {
   "display_name": "Python 3 (ipykernel)",
   "language": "python",
   "name": "python3"
  },
  "language_info": {
   "codemirror_mode": {
    "name": "ipython",
    "version": 3
   },
   "file_extension": ".py",
   "mimetype": "text/x-python",
   "name": "python",
   "nbconvert_exporter": "python",
   "pygments_lexer": "ipython3",
   "version": "3.11.7"
  }
 },
 "nbformat": 4,
 "nbformat_minor": 4
}
